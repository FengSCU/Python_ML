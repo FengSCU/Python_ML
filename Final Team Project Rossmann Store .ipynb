{
 "cells": [
  {
   "cell_type": "markdown",
   "metadata": {},
   "source": [
    "# <u> Rossmann Store Sales Prediction </u>"
   ]
  },
  {
   "cell_type": "markdown",
   "metadata": {},
   "source": [
    "                                        Team member: Yingjie Yu, Yiru Wang, Feng Wang"
   ]
  },
  {
   "cell_type": "code",
   "execution_count": 1,
   "metadata": {},
   "outputs": [
    {
     "name": "stderr",
     "output_type": "stream",
     "text": [
      "C:\\Users\\Karl\\Anaconda2\\lib\\site-packages\\sklearn\\cross_validation.py:41: DeprecationWarning: This module was deprecated in version 0.18 in favor of the model_selection module into which all the refactored classes and functions are moved. Also note that the interface of the new CV iterators are different from that of this module. This module will be removed in 0.20.\n",
      "  \"This module will be removed in 0.20.\", DeprecationWarning)\n"
     ]
    }
   ],
   "source": [
    "import pandas as pd\n",
    "import numpy as np\n",
    "from sklearn.cross_validation import train_test_split\n",
    "import operator\n",
    "import matplotlib.pyplot as plt\n",
    "from sklearn.ensemble import RandomForestRegressor\n",
    "from sklearn.linear_model import LinearRegression\n",
    "from datetime import datetime\n",
    "import seaborn as sns\n",
    "\n",
    "from sklearn.model_selection import RandomizedSearchCV\n",
    "from scipy.stats import randint as sp_randint\n",
    "\n",
    "\n",
    "%matplotlib inline\n",
    "import warnings\n",
    "warnings.filterwarnings('ignore')\n",
    "from sklearn.metrics import mean_squared_error"
   ]
  },
  {
   "cell_type": "code",
   "execution_count": 2,
   "metadata": {
    "collapsed": true
   },
   "outputs": [],
   "source": [
    "pd.set_option('display.max_columns', 40)\n",
    "pd.set_option('precision', 4)"
   ]
  },
  {
   "cell_type": "markdown",
   "metadata": {},
   "source": [
    "# <u> 1. Data Set Description <u>"
   ]
  },
  {
   "cell_type": "markdown",
   "metadata": {},
   "source": [
    "<ul>\n",
    "<li> <b> train </b>is a dataset with historical sales data for 1,115 Rossmann stores from Jan 1 2013 to July 31, 2015. Each row is daily record. </li>\n",
    "<li> <b> store</b> is a dataset of all stores. Each row is a store.</li>\n"
   ]
  },
  {
   "cell_type": "markdown",
   "metadata": {},
   "source": [
    "Important columns in <b> train, store </b> are:\n",
    "<ol>\n",
    "<li>Store - a unique Id for each store</li>\n",
    "<li>Sales - the turnover for any given day</li>\n",
    "<li>Customers - the number of customers on a given day</li>\n",
    "<li>Open - whether the store was open: 0 = closed, 1 = open</li>\n",
    "<li>StateHoliday - indicates a state holiday. Normally all stores, with few exceptions, are closed on state holidays. Note that all schools are closed on public holidays and weekends. a = public holiday, b = Easter holiday, c = Christmas, 0 = None</li>\n",
    "<li>SchoolHoliday - indicates if the (Store, Date) was affected by the closure of public schools. </li>\n",
    "<li>StoreType - differentiates between 4 different store models: a, b, c, d. <b>we do not have detail information regarding the store type</b></li> \n",
    "<li>Assortment - describes an assortment level: a = basic, b = extra, c = extended</li>\n",
    "<li>CompetitionDistance - distance in meters to the nearest competitor store</li>\n",
    "<li>CompetitionOpenSince[Month/Year] - gives the approximate year and month of the time the nearest competitor was opened</li>\n",
    "<li>Promo - indicates whether a store is running a promo on that day</li>\n",
    "<li>Promo2 - Promo2 is a coupon based mailing campaign that is send to customers of participating stores: 0 = store is not participating, 1 = store is participating</li>\n",
    "<li>Promo2Since[Year/Week] - describes the year and calendar week when the store started participating in Promo2</li>\n",
    "<li>PromoInterval - describes the consecutive intervals Promo2 is started, naming the months the promotion is started anew. E.g. \"Feb,May,Aug,Nov\" means each round starts in February, May, August, November of any given year for that store</li>\n",
    "\n",
    "\n",
    "</ol>"
   ]
  },
  {
   "cell_type": "code",
   "execution_count": 3,
   "metadata": {
    "collapsed": true
   },
   "outputs": [],
   "source": [
    "train = pd.read_csv(\"train.csv\")"
   ]
  },
  {
   "cell_type": "code",
   "execution_count": 4,
   "metadata": {},
   "outputs": [
    {
     "data": {
      "text/html": [
       "<div>\n",
       "<style scoped>\n",
       "    .dataframe tbody tr th:only-of-type {\n",
       "        vertical-align: middle;\n",
       "    }\n",
       "\n",
       "    .dataframe tbody tr th {\n",
       "        vertical-align: top;\n",
       "    }\n",
       "\n",
       "    .dataframe thead th {\n",
       "        text-align: right;\n",
       "    }\n",
       "</style>\n",
       "<table border=\"1\" class=\"dataframe\">\n",
       "  <thead>\n",
       "    <tr style=\"text-align: right;\">\n",
       "      <th></th>\n",
       "      <th>Store</th>\n",
       "      <th>DayOfWeek</th>\n",
       "      <th>Date</th>\n",
       "      <th>Sales</th>\n",
       "      <th>Customers</th>\n",
       "      <th>Open</th>\n",
       "      <th>Promo</th>\n",
       "      <th>StateHoliday</th>\n",
       "      <th>SchoolHoliday</th>\n",
       "    </tr>\n",
       "  </thead>\n",
       "  <tbody>\n",
       "    <tr>\n",
       "      <th>0</th>\n",
       "      <td>1</td>\n",
       "      <td>5</td>\n",
       "      <td>2015-07-31</td>\n",
       "      <td>5263</td>\n",
       "      <td>555</td>\n",
       "      <td>1</td>\n",
       "      <td>1</td>\n",
       "      <td>0</td>\n",
       "      <td>1</td>\n",
       "    </tr>\n",
       "  </tbody>\n",
       "</table>\n",
       "</div>"
      ],
      "text/plain": [
       "   Store  DayOfWeek        Date  Sales  Customers  Open  Promo StateHoliday  \\\n",
       "0      1          5  2015-07-31   5263        555     1      1            0   \n",
       "\n",
       "   SchoolHoliday  \n",
       "0              1  "
      ]
     },
     "execution_count": 4,
     "metadata": {},
     "output_type": "execute_result"
    }
   ],
   "source": [
    "train.head(1)"
   ]
  },
  {
   "cell_type": "code",
   "execution_count": 5,
   "metadata": {
    "collapsed": true
   },
   "outputs": [],
   "source": [
    "store = pd.read_csv('store.csv')"
   ]
  },
  {
   "cell_type": "code",
   "execution_count": 6,
   "metadata": {},
   "outputs": [
    {
     "data": {
      "text/html": [
       "<div>\n",
       "<style scoped>\n",
       "    .dataframe tbody tr th:only-of-type {\n",
       "        vertical-align: middle;\n",
       "    }\n",
       "\n",
       "    .dataframe tbody tr th {\n",
       "        vertical-align: top;\n",
       "    }\n",
       "\n",
       "    .dataframe thead th {\n",
       "        text-align: right;\n",
       "    }\n",
       "</style>\n",
       "<table border=\"1\" class=\"dataframe\">\n",
       "  <thead>\n",
       "    <tr style=\"text-align: right;\">\n",
       "      <th></th>\n",
       "      <th>Store</th>\n",
       "      <th>StoreType</th>\n",
       "      <th>Assortment</th>\n",
       "      <th>CompetitionDistance</th>\n",
       "      <th>CompetitionOpenSinceMonth</th>\n",
       "      <th>CompetitionOpenSinceYear</th>\n",
       "      <th>Promo2</th>\n",
       "      <th>Promo2SinceWeek</th>\n",
       "      <th>Promo2SinceYear</th>\n",
       "      <th>PromoInterval</th>\n",
       "    </tr>\n",
       "  </thead>\n",
       "  <tbody>\n",
       "    <tr>\n",
       "      <th>0</th>\n",
       "      <td>1</td>\n",
       "      <td>c</td>\n",
       "      <td>a</td>\n",
       "      <td>1270.0</td>\n",
       "      <td>9.0</td>\n",
       "      <td>2008.0</td>\n",
       "      <td>0</td>\n",
       "      <td>NaN</td>\n",
       "      <td>NaN</td>\n",
       "      <td>NaN</td>\n",
       "    </tr>\n",
       "  </tbody>\n",
       "</table>\n",
       "</div>"
      ],
      "text/plain": [
       "   Store StoreType Assortment  CompetitionDistance  CompetitionOpenSinceMonth  \\\n",
       "0      1         c          a               1270.0                        9.0   \n",
       "\n",
       "   CompetitionOpenSinceYear  Promo2  Promo2SinceWeek  Promo2SinceYear  \\\n",
       "0                    2008.0       0              NaN              NaN   \n",
       "\n",
       "  PromoInterval  \n",
       "0           NaN  "
      ]
     },
     "execution_count": 6,
     "metadata": {},
     "output_type": "execute_result"
    }
   ],
   "source": [
    "store.head(1)"
   ]
  },
  {
   "cell_type": "code",
   "execution_count": 7,
   "metadata": {},
   "outputs": [
    {
     "name": "stdout",
     "output_type": "stream",
     "text": [
      "<class 'pandas.core.frame.DataFrame'>\n",
      "RangeIndex: 1017209 entries, 0 to 1017208\n",
      "Data columns (total 9 columns):\n",
      "Store            1017209 non-null int64\n",
      "DayOfWeek        1017209 non-null int64\n",
      "Date             1017209 non-null object\n",
      "Sales            1017209 non-null int64\n",
      "Customers        1017209 non-null int64\n",
      "Open             1017209 non-null int64\n",
      "Promo            1017209 non-null int64\n",
      "StateHoliday     1017209 non-null object\n",
      "SchoolHoliday    1017209 non-null int64\n",
      "dtypes: int64(7), object(2)\n",
      "memory usage: 69.8+ MB\n"
     ]
    }
   ],
   "source": [
    "train.info() # needs to split date to see time trend, convert category into dummies such as Stateholiday and SchoolHoliday"
   ]
  },
  {
   "cell_type": "code",
   "execution_count": 8,
   "metadata": {},
   "outputs": [
    {
     "name": "stdout",
     "output_type": "stream",
     "text": [
      "<class 'pandas.core.frame.DataFrame'>\n",
      "RangeIndex: 1115 entries, 0 to 1114\n",
      "Data columns (total 10 columns):\n",
      "Store                        1115 non-null int64\n",
      "StoreType                    1115 non-null object\n",
      "Assortment                   1115 non-null object\n",
      "CompetitionDistance          1112 non-null float64\n",
      "CompetitionOpenSinceMonth    761 non-null float64\n",
      "CompetitionOpenSinceYear     761 non-null float64\n",
      "Promo2                       1115 non-null int64\n",
      "Promo2SinceWeek              571 non-null float64\n",
      "Promo2SinceYear              571 non-null float64\n",
      "PromoInterval                571 non-null object\n",
      "dtypes: float64(5), int64(2), object(3)\n",
      "memory usage: 87.2+ KB\n"
     ]
    }
   ],
   "source": [
    "store.info()  # looking at null data"
   ]
  },
  {
   "cell_type": "code",
   "execution_count": 9,
   "metadata": {},
   "outputs": [
    {
     "data": {
      "text/plain": [
       "544"
      ]
     },
     "execution_count": 9,
     "metadata": {},
     "output_type": "execute_result"
    }
   ],
   "source": [
    "len(store[store.Promo2 == 0])   # so the NAN in Promo2SinceWeek/Year, PromoInterval means 0. 544 + 571 = 1115"
   ]
  },
  {
   "cell_type": "code",
   "execution_count": 10,
   "metadata": {},
   "outputs": [
    {
     "data": {
      "text/html": [
       "<div>\n",
       "<style scoped>\n",
       "    .dataframe tbody tr th:only-of-type {\n",
       "        vertical-align: middle;\n",
       "    }\n",
       "\n",
       "    .dataframe tbody tr th {\n",
       "        vertical-align: top;\n",
       "    }\n",
       "\n",
       "    .dataframe thead th {\n",
       "        text-align: right;\n",
       "    }\n",
       "</style>\n",
       "<table border=\"1\" class=\"dataframe\">\n",
       "  <thead>\n",
       "    <tr style=\"text-align: right;\">\n",
       "      <th></th>\n",
       "      <th>Store</th>\n",
       "      <th>StoreType</th>\n",
       "      <th>Assortment</th>\n",
       "      <th>CompetitionDistance</th>\n",
       "      <th>CompetitionOpenSinceMonth</th>\n",
       "      <th>CompetitionOpenSinceYear</th>\n",
       "      <th>Promo2</th>\n",
       "      <th>Promo2SinceWeek</th>\n",
       "      <th>Promo2SinceYear</th>\n",
       "      <th>PromoInterval</th>\n",
       "    </tr>\n",
       "  </thead>\n",
       "  <tbody>\n",
       "    <tr>\n",
       "      <th>290</th>\n",
       "      <td>291</td>\n",
       "      <td>d</td>\n",
       "      <td>a</td>\n",
       "      <td>NaN</td>\n",
       "      <td>NaN</td>\n",
       "      <td>NaN</td>\n",
       "      <td>0</td>\n",
       "      <td>NaN</td>\n",
       "      <td>NaN</td>\n",
       "      <td>NaN</td>\n",
       "    </tr>\n",
       "    <tr>\n",
       "      <th>621</th>\n",
       "      <td>622</td>\n",
       "      <td>a</td>\n",
       "      <td>c</td>\n",
       "      <td>NaN</td>\n",
       "      <td>NaN</td>\n",
       "      <td>NaN</td>\n",
       "      <td>0</td>\n",
       "      <td>NaN</td>\n",
       "      <td>NaN</td>\n",
       "      <td>NaN</td>\n",
       "    </tr>\n",
       "    <tr>\n",
       "      <th>878</th>\n",
       "      <td>879</td>\n",
       "      <td>d</td>\n",
       "      <td>a</td>\n",
       "      <td>NaN</td>\n",
       "      <td>NaN</td>\n",
       "      <td>NaN</td>\n",
       "      <td>1</td>\n",
       "      <td>5.0</td>\n",
       "      <td>2013.0</td>\n",
       "      <td>Feb,May,Aug,Nov</td>\n",
       "    </tr>\n",
       "  </tbody>\n",
       "</table>\n",
       "</div>"
      ],
      "text/plain": [
       "     Store StoreType Assortment  CompetitionDistance  \\\n",
       "290    291         d          a                  NaN   \n",
       "621    622         a          c                  NaN   \n",
       "878    879         d          a                  NaN   \n",
       "\n",
       "     CompetitionOpenSinceMonth  CompetitionOpenSinceYear  Promo2  \\\n",
       "290                        NaN                       NaN       0   \n",
       "621                        NaN                       NaN       0   \n",
       "878                        NaN                       NaN       1   \n",
       "\n",
       "     Promo2SinceWeek  Promo2SinceYear    PromoInterval  \n",
       "290              NaN              NaN              NaN  \n",
       "621              NaN              NaN              NaN  \n",
       "878              5.0           2013.0  Feb,May,Aug,Nov  "
      ]
     },
     "execution_count": 10,
     "metadata": {},
     "output_type": "execute_result"
    }
   ],
   "source": [
    "store[store.CompetitionDistance.isnull()] # CompetitionDistance is Nan means no competition, so fill 0"
   ]
  },
  {
   "cell_type": "code",
   "execution_count": 11,
   "metadata": {},
   "outputs": [
    {
     "data": {
      "text/html": [
       "<div>\n",
       "<style scoped>\n",
       "    .dataframe tbody tr th:only-of-type {\n",
       "        vertical-align: middle;\n",
       "    }\n",
       "\n",
       "    .dataframe tbody tr th {\n",
       "        vertical-align: top;\n",
       "    }\n",
       "\n",
       "    .dataframe thead th {\n",
       "        text-align: right;\n",
       "    }\n",
       "</style>\n",
       "<table border=\"1\" class=\"dataframe\">\n",
       "  <thead>\n",
       "    <tr style=\"text-align: right;\">\n",
       "      <th></th>\n",
       "      <th>Store</th>\n",
       "      <th>StoreType</th>\n",
       "      <th>Assortment</th>\n",
       "      <th>CompetitionDistance</th>\n",
       "      <th>CompetitionOpenSinceMonth</th>\n",
       "      <th>CompetitionOpenSinceYear</th>\n",
       "      <th>Promo2</th>\n",
       "      <th>Promo2SinceWeek</th>\n",
       "      <th>Promo2SinceYear</th>\n",
       "      <th>PromoInterval</th>\n",
       "    </tr>\n",
       "  </thead>\n",
       "  <tbody>\n",
       "    <tr>\n",
       "      <th>11</th>\n",
       "      <td>12</td>\n",
       "      <td>a</td>\n",
       "      <td>c</td>\n",
       "      <td>1070.0</td>\n",
       "      <td>NaN</td>\n",
       "      <td>NaN</td>\n",
       "      <td>1</td>\n",
       "      <td>13.0</td>\n",
       "      <td>2010.0</td>\n",
       "      <td>Jan,Apr,Jul,Oct</td>\n",
       "    </tr>\n",
       "    <tr>\n",
       "      <th>12</th>\n",
       "      <td>13</td>\n",
       "      <td>d</td>\n",
       "      <td>a</td>\n",
       "      <td>310.0</td>\n",
       "      <td>NaN</td>\n",
       "      <td>NaN</td>\n",
       "      <td>1</td>\n",
       "      <td>45.0</td>\n",
       "      <td>2009.0</td>\n",
       "      <td>Feb,May,Aug,Nov</td>\n",
       "    </tr>\n",
       "    <tr>\n",
       "      <th>15</th>\n",
       "      <td>16</td>\n",
       "      <td>a</td>\n",
       "      <td>c</td>\n",
       "      <td>3270.0</td>\n",
       "      <td>NaN</td>\n",
       "      <td>NaN</td>\n",
       "      <td>0</td>\n",
       "      <td>NaN</td>\n",
       "      <td>NaN</td>\n",
       "      <td>NaN</td>\n",
       "    </tr>\n",
       "    <tr>\n",
       "      <th>18</th>\n",
       "      <td>19</td>\n",
       "      <td>a</td>\n",
       "      <td>c</td>\n",
       "      <td>3240.0</td>\n",
       "      <td>NaN</td>\n",
       "      <td>NaN</td>\n",
       "      <td>1</td>\n",
       "      <td>22.0</td>\n",
       "      <td>2011.0</td>\n",
       "      <td>Mar,Jun,Sept,Dec</td>\n",
       "    </tr>\n",
       "    <tr>\n",
       "      <th>21</th>\n",
       "      <td>22</td>\n",
       "      <td>a</td>\n",
       "      <td>a</td>\n",
       "      <td>1040.0</td>\n",
       "      <td>NaN</td>\n",
       "      <td>NaN</td>\n",
       "      <td>1</td>\n",
       "      <td>22.0</td>\n",
       "      <td>2012.0</td>\n",
       "      <td>Jan,Apr,Jul,Oct</td>\n",
       "    </tr>\n",
       "  </tbody>\n",
       "</table>\n",
       "</div>"
      ],
      "text/plain": [
       "    Store StoreType Assortment  CompetitionDistance  \\\n",
       "11     12         a          c               1070.0   \n",
       "12     13         d          a                310.0   \n",
       "15     16         a          c               3270.0   \n",
       "18     19         a          c               3240.0   \n",
       "21     22         a          a               1040.0   \n",
       "\n",
       "    CompetitionOpenSinceMonth  CompetitionOpenSinceYear  Promo2  \\\n",
       "11                        NaN                       NaN       1   \n",
       "12                        NaN                       NaN       1   \n",
       "15                        NaN                       NaN       0   \n",
       "18                        NaN                       NaN       1   \n",
       "21                        NaN                       NaN       1   \n",
       "\n",
       "    Promo2SinceWeek  Promo2SinceYear     PromoInterval  \n",
       "11             13.0           2010.0   Jan,Apr,Jul,Oct  \n",
       "12             45.0           2009.0   Feb,May,Aug,Nov  \n",
       "15              NaN              NaN               NaN  \n",
       "18             22.0           2011.0  Mar,Jun,Sept,Dec  \n",
       "21             22.0           2012.0   Jan,Apr,Jul,Oct  "
      ]
     },
     "execution_count": 11,
     "metadata": {},
     "output_type": "execute_result"
    }
   ],
   "source": [
    "store[store.CompetitionOpenSinceMonth.isnull()].head()  # data not available, fill 0"
   ]
  },
  {
   "cell_type": "markdown",
   "metadata": {},
   "source": [
    "# <u> 2. Data Preparation <u>"
   ]
  },
  {
   "cell_type": "code",
   "execution_count": 12,
   "metadata": {
    "collapsed": true
   },
   "outputs": [],
   "source": [
    "types = {'CompetitionOpenSinceYear': np.dtype(int),\n",
    "         'CompetitionOpenSinceMonth': np.dtype(int),\n",
    "         'StateHoliday': np.dtype(str),\n",
    "         'Promo2SinceWeek': np.dtype(int),\n",
    "         'SchoolHoliday': np.dtype(float),\n",
    "         'PromoInterval': np.dtype(str)}\n",
    "train = pd.read_csv(\"train.csv\", parse_dates=[2], dtype=types)\n",
    "store = pd.read_csv(\"store.csv\")"
   ]
  },
  {
   "cell_type": "code",
   "execution_count": 13,
   "metadata": {
    "collapsed": true
   },
   "outputs": [],
   "source": [
    "#Consider only open stores for training. Closed stores wont count into the score.\n",
    "train = train[train[\"Open\"] != 0]\n",
    "#Use only Sales bigger then zero. Simplifies calculation of rmspe\n",
    "train = train[train[\"Sales\"] > 0]\n",
    "\n",
    "#Join with store\n",
    "train = pd.merge(train, store, on='Store')"
   ]
  },
  {
   "cell_type": "code",
   "execution_count": 14,
   "metadata": {
    "collapsed": true
   },
   "outputs": [],
   "source": [
    "def build_features(features, data):\n",
    "    \n",
    "    # Use some properties directly\n",
    "    # Since Promo2 is a continuous coupon promotion\n",
    "    features.extend(['Store', 'CompetitionDistance', 'Promo', 'Promo2', \\\n",
    "                     'SchoolHoliday','StoreType', 'Assortment', 'StateHoliday'])\n",
    "\n",
    "    # fill NAN in CompetitionDistance,CompetitionOpenSinceMonth and CompetitionOpenSinceYear with 0, for NAN here means no competitor store opened nearby\n",
    "    data['CompetitionDistance'].fillna(0, inplace = True)\n",
    "    data['CompetitionOpenSinceYear'].fillna(0, inplace = True)\n",
    "    data['CompetitionOpenSinceMonth'].fillna(0, inplace = True)\n",
    "    # fill NAN in PromoInterval with 0, for NAN here means no promo2 is on\n",
    "    data['PromoInterval'].fillna(0, inplace = True)\n",
    "    \n",
    "    # get time features\n",
    "    features.extend(['DayOfWeek', 'Month', 'Day', 'Year', 'WeekOfYear'])\n",
    "    data['Year'] = data.Date.dt.year\n",
    "    data['Month'] = data.Date.dt.month\n",
    "    data['Day'] = data.Date.dt.day\n",
    "    data['DayOfWeek'] = data.Date.dt.dayofweek\n",
    "    data['WeekOfYear'] = data.Date.dt.weekofyear\n",
    "\n",
    "    # Calculate time competition open time in months\n",
    "    features.append('CompetitionOpen')\n",
    "    data['CompetitionOpen'] = 12 * (data.Year - data.CompetitionOpenSinceYear) + \\\n",
    "        (data.Month - data.CompetitionOpenSinceMonth)\n",
    "    # Promo open time in months\n",
    "    features.append('PromoOpen')\n",
    "    data['PromoOpen'] = 12 * (data.Year - data.Promo2SinceYear) + \\\n",
    "        (data.WeekOfYear - data.Promo2SinceWeek) / 4.0\n",
    "    data['PromoOpen'] = data.PromoOpen.apply(lambda x: x if x > 0 else 0)\n",
    "    data.loc[data.Promo2SinceYear == 0, 'PromoOpen'] = 0\n",
    "    # Indicate that sales on that day are in promo interval\n",
    "    features.append('IsPromoMonth')\n",
    "    month2str = {1:'Jan', 2:'Feb', 3:'Mar', 4:'Apr', 5:'May', 6:'Jun', \\\n",
    "             7:'Jul', 8:'Aug', 9:'Sept', 10:'Oct', 11:'Nov', 12:'Dec'}\n",
    "    data['monthStr'] = data.Month.map(month2str)\n",
    "    data.loc[data.PromoInterval == 0, 'PromoInterval'] = ''\n",
    "    data['IsPromoMonth'] = 0\n",
    "    for interval in data.PromoInterval.unique():\n",
    "        if interval != '':\n",
    "            for month in interval.split(','):\n",
    "                data.loc[(data.monthStr == month) & (data.PromoInterval == interval), 'IsPromoMonth'] = 1\n",
    "\n",
    "    return data"
   ]
  },
  {
   "cell_type": "code",
   "execution_count": 15,
   "metadata": {
    "collapsed": true
   },
   "outputs": [],
   "source": [
    "def rmspe(y, yhat):\n",
    "    return np.sqrt(np.mean((yhat/y-1) ** 2))"
   ]
  },
  {
   "cell_type": "code",
   "execution_count": 16,
   "metadata": {},
   "outputs": [
    {
     "name": "stdout",
     "output_type": "stream",
     "text": [
      "['Store', 'CompetitionDistance', 'Promo', 'Promo2', 'SchoolHoliday', 'StoreType', 'Assortment', 'StateHoliday', 'DayOfWeek', 'Month', 'Day', 'Year', 'WeekOfYear', 'CompetitionOpen', 'PromoOpen', 'IsPromoMonth']\n"
     ]
    }
   ],
   "source": [
    "features = []\n",
    "\n",
    "#augment features\n",
    "build_features(features, train)\n",
    "print(features)"
   ]
  },
  {
   "cell_type": "code",
   "execution_count": 17,
   "metadata": {},
   "outputs": [
    {
     "data": {
      "text/html": [
       "<div>\n",
       "<style scoped>\n",
       "    .dataframe tbody tr th:only-of-type {\n",
       "        vertical-align: middle;\n",
       "    }\n",
       "\n",
       "    .dataframe tbody tr th {\n",
       "        vertical-align: top;\n",
       "    }\n",
       "\n",
       "    .dataframe thead th {\n",
       "        text-align: right;\n",
       "    }\n",
       "</style>\n",
       "<table border=\"1\" class=\"dataframe\">\n",
       "  <thead>\n",
       "    <tr style=\"text-align: right;\">\n",
       "      <th></th>\n",
       "      <th>Store</th>\n",
       "      <th>DayOfWeek</th>\n",
       "      <th>Date</th>\n",
       "      <th>Sales</th>\n",
       "      <th>Customers</th>\n",
       "      <th>Open</th>\n",
       "      <th>Promo</th>\n",
       "      <th>StateHoliday</th>\n",
       "      <th>SchoolHoliday</th>\n",
       "      <th>StoreType</th>\n",
       "      <th>Assortment</th>\n",
       "      <th>CompetitionDistance</th>\n",
       "      <th>CompetitionOpenSinceMonth</th>\n",
       "      <th>CompetitionOpenSinceYear</th>\n",
       "      <th>Promo2</th>\n",
       "      <th>Promo2SinceWeek</th>\n",
       "      <th>Promo2SinceYear</th>\n",
       "      <th>PromoInterval</th>\n",
       "      <th>Year</th>\n",
       "      <th>Month</th>\n",
       "      <th>Day</th>\n",
       "      <th>WeekOfYear</th>\n",
       "      <th>CompetitionOpen</th>\n",
       "      <th>PromoOpen</th>\n",
       "      <th>monthStr</th>\n",
       "      <th>IsPromoMonth</th>\n",
       "    </tr>\n",
       "  </thead>\n",
       "  <tbody>\n",
       "    <tr>\n",
       "      <th>0</th>\n",
       "      <td>1</td>\n",
       "      <td>4</td>\n",
       "      <td>2015-07-31</td>\n",
       "      <td>5263</td>\n",
       "      <td>555</td>\n",
       "      <td>1</td>\n",
       "      <td>1</td>\n",
       "      <td>0</td>\n",
       "      <td>1.0</td>\n",
       "      <td>c</td>\n",
       "      <td>a</td>\n",
       "      <td>1270.0</td>\n",
       "      <td>9.0</td>\n",
       "      <td>2008.0</td>\n",
       "      <td>0</td>\n",
       "      <td>NaN</td>\n",
       "      <td>NaN</td>\n",
       "      <td></td>\n",
       "      <td>2015</td>\n",
       "      <td>7</td>\n",
       "      <td>31</td>\n",
       "      <td>31</td>\n",
       "      <td>82.0</td>\n",
       "      <td>0.0</td>\n",
       "      <td>Jul</td>\n",
       "      <td>0</td>\n",
       "    </tr>\n",
       "    <tr>\n",
       "      <th>1</th>\n",
       "      <td>1</td>\n",
       "      <td>3</td>\n",
       "      <td>2015-07-30</td>\n",
       "      <td>5020</td>\n",
       "      <td>546</td>\n",
       "      <td>1</td>\n",
       "      <td>1</td>\n",
       "      <td>0</td>\n",
       "      <td>1.0</td>\n",
       "      <td>c</td>\n",
       "      <td>a</td>\n",
       "      <td>1270.0</td>\n",
       "      <td>9.0</td>\n",
       "      <td>2008.0</td>\n",
       "      <td>0</td>\n",
       "      <td>NaN</td>\n",
       "      <td>NaN</td>\n",
       "      <td></td>\n",
       "      <td>2015</td>\n",
       "      <td>7</td>\n",
       "      <td>30</td>\n",
       "      <td>31</td>\n",
       "      <td>82.0</td>\n",
       "      <td>0.0</td>\n",
       "      <td>Jul</td>\n",
       "      <td>0</td>\n",
       "    </tr>\n",
       "    <tr>\n",
       "      <th>2</th>\n",
       "      <td>1</td>\n",
       "      <td>2</td>\n",
       "      <td>2015-07-29</td>\n",
       "      <td>4782</td>\n",
       "      <td>523</td>\n",
       "      <td>1</td>\n",
       "      <td>1</td>\n",
       "      <td>0</td>\n",
       "      <td>1.0</td>\n",
       "      <td>c</td>\n",
       "      <td>a</td>\n",
       "      <td>1270.0</td>\n",
       "      <td>9.0</td>\n",
       "      <td>2008.0</td>\n",
       "      <td>0</td>\n",
       "      <td>NaN</td>\n",
       "      <td>NaN</td>\n",
       "      <td></td>\n",
       "      <td>2015</td>\n",
       "      <td>7</td>\n",
       "      <td>29</td>\n",
       "      <td>31</td>\n",
       "      <td>82.0</td>\n",
       "      <td>0.0</td>\n",
       "      <td>Jul</td>\n",
       "      <td>0</td>\n",
       "    </tr>\n",
       "    <tr>\n",
       "      <th>3</th>\n",
       "      <td>1</td>\n",
       "      <td>1</td>\n",
       "      <td>2015-07-28</td>\n",
       "      <td>5011</td>\n",
       "      <td>560</td>\n",
       "      <td>1</td>\n",
       "      <td>1</td>\n",
       "      <td>0</td>\n",
       "      <td>1.0</td>\n",
       "      <td>c</td>\n",
       "      <td>a</td>\n",
       "      <td>1270.0</td>\n",
       "      <td>9.0</td>\n",
       "      <td>2008.0</td>\n",
       "      <td>0</td>\n",
       "      <td>NaN</td>\n",
       "      <td>NaN</td>\n",
       "      <td></td>\n",
       "      <td>2015</td>\n",
       "      <td>7</td>\n",
       "      <td>28</td>\n",
       "      <td>31</td>\n",
       "      <td>82.0</td>\n",
       "      <td>0.0</td>\n",
       "      <td>Jul</td>\n",
       "      <td>0</td>\n",
       "    </tr>\n",
       "    <tr>\n",
       "      <th>4</th>\n",
       "      <td>1</td>\n",
       "      <td>0</td>\n",
       "      <td>2015-07-27</td>\n",
       "      <td>6102</td>\n",
       "      <td>612</td>\n",
       "      <td>1</td>\n",
       "      <td>1</td>\n",
       "      <td>0</td>\n",
       "      <td>1.0</td>\n",
       "      <td>c</td>\n",
       "      <td>a</td>\n",
       "      <td>1270.0</td>\n",
       "      <td>9.0</td>\n",
       "      <td>2008.0</td>\n",
       "      <td>0</td>\n",
       "      <td>NaN</td>\n",
       "      <td>NaN</td>\n",
       "      <td></td>\n",
       "      <td>2015</td>\n",
       "      <td>7</td>\n",
       "      <td>27</td>\n",
       "      <td>31</td>\n",
       "      <td>82.0</td>\n",
       "      <td>0.0</td>\n",
       "      <td>Jul</td>\n",
       "      <td>0</td>\n",
       "    </tr>\n",
       "  </tbody>\n",
       "</table>\n",
       "</div>"
      ],
      "text/plain": [
       "   Store  DayOfWeek       Date  Sales  Customers  Open  Promo StateHoliday  \\\n",
       "0      1          4 2015-07-31   5263        555     1      1            0   \n",
       "1      1          3 2015-07-30   5020        546     1      1            0   \n",
       "2      1          2 2015-07-29   4782        523     1      1            0   \n",
       "3      1          1 2015-07-28   5011        560     1      1            0   \n",
       "4      1          0 2015-07-27   6102        612     1      1            0   \n",
       "\n",
       "   SchoolHoliday StoreType Assortment  CompetitionDistance  \\\n",
       "0            1.0         c          a               1270.0   \n",
       "1            1.0         c          a               1270.0   \n",
       "2            1.0         c          a               1270.0   \n",
       "3            1.0         c          a               1270.0   \n",
       "4            1.0         c          a               1270.0   \n",
       "\n",
       "   CompetitionOpenSinceMonth  CompetitionOpenSinceYear  Promo2  \\\n",
       "0                        9.0                    2008.0       0   \n",
       "1                        9.0                    2008.0       0   \n",
       "2                        9.0                    2008.0       0   \n",
       "3                        9.0                    2008.0       0   \n",
       "4                        9.0                    2008.0       0   \n",
       "\n",
       "   Promo2SinceWeek  Promo2SinceYear PromoInterval  Year  Month  Day  \\\n",
       "0              NaN              NaN                2015      7   31   \n",
       "1              NaN              NaN                2015      7   30   \n",
       "2              NaN              NaN                2015      7   29   \n",
       "3              NaN              NaN                2015      7   28   \n",
       "4              NaN              NaN                2015      7   27   \n",
       "\n",
       "   WeekOfYear  CompetitionOpen  PromoOpen monthStr  IsPromoMonth  \n",
       "0          31             82.0        0.0      Jul             0  \n",
       "1          31             82.0        0.0      Jul             0  \n",
       "2          31             82.0        0.0      Jul             0  \n",
       "3          31             82.0        0.0      Jul             0  \n",
       "4          31             82.0        0.0      Jul             0  "
      ]
     },
     "execution_count": 17,
     "metadata": {},
     "output_type": "execute_result"
    }
   ],
   "source": [
    "train.head()"
   ]
  },
  {
   "cell_type": "code",
   "execution_count": 18,
   "metadata": {},
   "outputs": [
    {
     "data": {
      "text/html": [
       "<div>\n",
       "<style scoped>\n",
       "    .dataframe tbody tr th:only-of-type {\n",
       "        vertical-align: middle;\n",
       "    }\n",
       "\n",
       "    .dataframe tbody tr th {\n",
       "        vertical-align: top;\n",
       "    }\n",
       "\n",
       "    .dataframe thead th {\n",
       "        text-align: right;\n",
       "    }\n",
       "</style>\n",
       "<table border=\"1\" class=\"dataframe\">\n",
       "  <thead>\n",
       "    <tr style=\"text-align: right;\">\n",
       "      <th></th>\n",
       "      <th>Store</th>\n",
       "      <th>CompetitionDistance</th>\n",
       "      <th>Promo</th>\n",
       "      <th>Promo2</th>\n",
       "      <th>SchoolHoliday</th>\n",
       "      <th>StoreType</th>\n",
       "      <th>Assortment</th>\n",
       "      <th>StateHoliday</th>\n",
       "      <th>DayOfWeek</th>\n",
       "      <th>Month</th>\n",
       "      <th>Day</th>\n",
       "      <th>Year</th>\n",
       "      <th>WeekOfYear</th>\n",
       "      <th>CompetitionOpen</th>\n",
       "      <th>PromoOpen</th>\n",
       "      <th>IsPromoMonth</th>\n",
       "    </tr>\n",
       "  </thead>\n",
       "  <tbody>\n",
       "    <tr>\n",
       "      <th>167746</th>\n",
       "      <td>224</td>\n",
       "      <td>7930.0</td>\n",
       "      <td>0</td>\n",
       "      <td>1</td>\n",
       "      <td>0.0</td>\n",
       "      <td>d</td>\n",
       "      <td>c</td>\n",
       "      <td>0</td>\n",
       "      <td>5</td>\n",
       "      <td>3</td>\n",
       "      <td>1</td>\n",
       "      <td>2014</td>\n",
       "      <td>9</td>\n",
       "      <td>24171.0</td>\n",
       "      <td>14.00</td>\n",
       "      <td>0</td>\n",
       "    </tr>\n",
       "    <tr>\n",
       "      <th>543533</th>\n",
       "      <td>721</td>\n",
       "      <td>3590.0</td>\n",
       "      <td>0</td>\n",
       "      <td>1</td>\n",
       "      <td>0.0</td>\n",
       "      <td>a</td>\n",
       "      <td>c</td>\n",
       "      <td>0</td>\n",
       "      <td>4</td>\n",
       "      <td>2</td>\n",
       "      <td>13</td>\n",
       "      <td>2015</td>\n",
       "      <td>7</td>\n",
       "      <td>29.0</td>\n",
       "      <td>32.25</td>\n",
       "      <td>0</td>\n",
       "    </tr>\n",
       "    <tr>\n",
       "      <th>610175</th>\n",
       "      <td>808</td>\n",
       "      <td>18620.0</td>\n",
       "      <td>1</td>\n",
       "      <td>1</td>\n",
       "      <td>1.0</td>\n",
       "      <td>a</td>\n",
       "      <td>a</td>\n",
       "      <td>0</td>\n",
       "      <td>2</td>\n",
       "      <td>2</td>\n",
       "      <td>19</td>\n",
       "      <td>2014</td>\n",
       "      <td>8</td>\n",
       "      <td>24170.0</td>\n",
       "      <td>54.25</td>\n",
       "      <td>1</td>\n",
       "    </tr>\n",
       "    <tr>\n",
       "      <th>167035</th>\n",
       "      <td>223</td>\n",
       "      <td>2920.0</td>\n",
       "      <td>0</td>\n",
       "      <td>1</td>\n",
       "      <td>0.0</td>\n",
       "      <td>d</td>\n",
       "      <td>c</td>\n",
       "      <td>0</td>\n",
       "      <td>0</td>\n",
       "      <td>12</td>\n",
       "      <td>9</td>\n",
       "      <td>2013</td>\n",
       "      <td>50</td>\n",
       "      <td>218.0</td>\n",
       "      <td>29.75</td>\n",
       "      <td>0</td>\n",
       "    </tr>\n",
       "    <tr>\n",
       "      <th>164290</th>\n",
       "      <td>220</td>\n",
       "      <td>1000.0</td>\n",
       "      <td>0</td>\n",
       "      <td>0</td>\n",
       "      <td>1.0</td>\n",
       "      <td>a</td>\n",
       "      <td>a</td>\n",
       "      <td>0</td>\n",
       "      <td>1</td>\n",
       "      <td>4</td>\n",
       "      <td>7</td>\n",
       "      <td>2015</td>\n",
       "      <td>15</td>\n",
       "      <td>79.0</td>\n",
       "      <td>0.00</td>\n",
       "      <td>0</td>\n",
       "    </tr>\n",
       "  </tbody>\n",
       "</table>\n",
       "</div>"
      ],
      "text/plain": [
       "        Store  CompetitionDistance  Promo  Promo2  SchoolHoliday StoreType  \\\n",
       "167746    224               7930.0      0       1            0.0         d   \n",
       "543533    721               3590.0      0       1            0.0         a   \n",
       "610175    808              18620.0      1       1            1.0         a   \n",
       "167035    223               2920.0      0       1            0.0         d   \n",
       "164290    220               1000.0      0       0            1.0         a   \n",
       "\n",
       "       Assortment StateHoliday  DayOfWeek  Month  Day  Year  WeekOfYear  \\\n",
       "167746          c            0          5      3    1  2014           9   \n",
       "543533          c            0          4      2   13  2015           7   \n",
       "610175          a            0          2      2   19  2014           8   \n",
       "167035          c            0          0     12    9  2013          50   \n",
       "164290          a            0          1      4    7  2015          15   \n",
       "\n",
       "        CompetitionOpen  PromoOpen  IsPromoMonth  \n",
       "167746          24171.0      14.00             0  \n",
       "543533             29.0      32.25             0  \n",
       "610175          24170.0      54.25             1  \n",
       "167035            218.0      29.75             0  \n",
       "164290             79.0       0.00             0  "
      ]
     },
     "execution_count": 18,
     "metadata": {},
     "output_type": "execute_result"
    }
   ],
   "source": [
    "X_train, X_valid = train_test_split(train, test_size=0.012, random_state=10)\n",
    "y_train = np.log1p(X_train.Sales)    # sales are logged for better regression.\n",
    "y_valid = np.log1p(X_valid.Sales) \n",
    "dtrain = X_train.loc[:,features]\n",
    "dvalid = X_valid.loc[:,features]\n",
    "dtrain.head()"
   ]
  },
  {
   "cell_type": "code",
   "execution_count": 19,
   "metadata": {
    "collapsed": true
   },
   "outputs": [],
   "source": [
    "dtrain_dummied = pd.get_dummies(dtrain,columns=['StoreType','Assortment','DayOfWeek','Year','Month','WeekOfYear','StateHoliday'\n",
    "                                        ], drop_first=True)\n",
    "dvalid_dummied = pd.get_dummies(dvalid,columns=['StoreType','Assortment','DayOfWeek','Year','Month','WeekOfYear','StateHoliday'\n",
    "                                        ], drop_first=True)"
   ]
  },
  {
   "cell_type": "code",
   "execution_count": 20,
   "metadata": {
    "collapsed": true
   },
   "outputs": [],
   "source": [
    "dtrain_dummied.drop(['Store','Day'],axis=1,inplace = True)\n",
    "dvalid_dummied.drop(['Store','Day'],axis=1,inplace = True)"
   ]
  },
  {
   "cell_type": "code",
   "execution_count": 21,
   "metadata": {},
   "outputs": [
    {
     "data": {
      "text/plain": [
       "Index([u'CompetitionDistance', u'Promo', u'Promo2', u'SchoolHoliday',\n",
       "       u'CompetitionOpen', u'PromoOpen', u'IsPromoMonth', u'StoreType_b',\n",
       "       u'StoreType_c', u'StoreType_d', u'Assortment_b', u'Assortment_c',\n",
       "       u'DayOfWeek_1', u'DayOfWeek_2', u'DayOfWeek_3', u'DayOfWeek_4',\n",
       "       u'DayOfWeek_5', u'DayOfWeek_6', u'Year_2014', u'Year_2015', u'Month_2',\n",
       "       u'Month_3', u'Month_4', u'Month_5', u'Month_6', u'Month_7', u'Month_8',\n",
       "       u'Month_9', u'Month_10', u'Month_11', u'Month_12', u'WeekOfYear_2',\n",
       "       u'WeekOfYear_3', u'WeekOfYear_4', u'WeekOfYear_5', u'WeekOfYear_6',\n",
       "       u'WeekOfYear_7', u'WeekOfYear_8', u'WeekOfYear_9', u'WeekOfYear_10',\n",
       "       u'WeekOfYear_11', u'WeekOfYear_12', u'WeekOfYear_13', u'WeekOfYear_14',\n",
       "       u'WeekOfYear_15', u'WeekOfYear_16', u'WeekOfYear_17', u'WeekOfYear_18',\n",
       "       u'WeekOfYear_19', u'WeekOfYear_20', u'WeekOfYear_21', u'WeekOfYear_22',\n",
       "       u'WeekOfYear_23', u'WeekOfYear_24', u'WeekOfYear_25', u'WeekOfYear_26',\n",
       "       u'WeekOfYear_27', u'WeekOfYear_28', u'WeekOfYear_29', u'WeekOfYear_30',\n",
       "       u'WeekOfYear_31', u'WeekOfYear_32', u'WeekOfYear_33', u'WeekOfYear_34',\n",
       "       u'WeekOfYear_35', u'WeekOfYear_36', u'WeekOfYear_37', u'WeekOfYear_38',\n",
       "       u'WeekOfYear_39', u'WeekOfYear_40', u'WeekOfYear_41', u'WeekOfYear_42',\n",
       "       u'WeekOfYear_43', u'WeekOfYear_44', u'WeekOfYear_45', u'WeekOfYear_46',\n",
       "       u'WeekOfYear_47', u'WeekOfYear_48', u'WeekOfYear_49', u'WeekOfYear_50',\n",
       "       u'WeekOfYear_51', u'WeekOfYear_52', u'StateHoliday_a',\n",
       "       u'StateHoliday_b'],\n",
       "      dtype='object')"
      ]
     },
     "execution_count": 21,
     "metadata": {},
     "output_type": "execute_result"
    }
   ],
   "source": [
    "dvalid_dummied.columns"
   ]
  },
  {
   "cell_type": "code",
   "execution_count": 22,
   "metadata": {
    "collapsed": true
   },
   "outputs": [],
   "source": [
    "dvalid_dummied['StateHoliday_c'] = 0"
   ]
  },
  {
   "cell_type": "markdown",
   "metadata": {},
   "source": [
    "# <u> 3. Finding Summary <u>"
   ]
  },
  {
   "cell_type": "markdown",
   "metadata": {},
   "source": [
    "There are many factors that affect sales for Rossmann drug store in Germany. The most three distinguised factors are competition, promotion and store type. Here are our findings in each factor:\n",
    "\n",
    "<li> In general, new competitors have strong and consistent negative effect for Rossmann stores, particularly for the store with closest competition distiance: more customers buying at Rossmann before competition opens, then an increasing drop once it opens, the sales decreasing effect can last relative long time. However, stay near a competitior is not always bad: though the competition has more influence on the stores with closer competition distance, yet those stores have higher sales compared with stores with further competition distance. \n",
    "\n",
    "<li> Different type of stores do affect sales: type B store is the most popular type of store and attracts the highest average sales. Interestingly, only type B store has the assortment level c (extra product mix), which might be one of the reasons that store type B attracts so many customers. In terms of sales per customer, type D store stands out.\n",
    "\n",
    "<li> Promotion does draw up sales in all types of stores of Rossmann, especially effective in store type a, b, and c where sales bases are relatively small. Promotion timing matters! Monday is the best promotion timing. Most stores closed on Sundays. People are eager to buy after a no-store weekend. \n",
    "\n",
    "\n"
   ]
  },
  {
   "cell_type": "markdown",
   "metadata": {},
   "source": [
    "# <u> 4. Machine Learning Exploration <u>"
   ]
  },
  {
   "cell_type": "markdown",
   "metadata": {},
   "source": [
    "## RandomForest Model for Feature Importance: Initial Simple Model"
   ]
  },
  {
   "cell_type": "code",
   "execution_count": 23,
   "metadata": {},
   "outputs": [
    {
     "name": "stderr",
     "output_type": "stream",
     "text": [
      "[Parallel(n_jobs=-1)]: Done  20 out of  20 | elapsed:  2.0min finished\n"
     ]
    },
    {
     "data": {
      "text/plain": [
       "RandomForestRegressor(bootstrap=True, criterion='mse', max_depth=None,\n",
       "           max_features='auto', max_leaf_nodes=None,\n",
       "           min_impurity_decrease=0.0, min_impurity_split=None,\n",
       "           min_samples_leaf=1, min_samples_split=2,\n",
       "           min_weight_fraction_leaf=0.0, n_estimators=20, n_jobs=-1,\n",
       "           oob_score=False, random_state=None, verbose=True,\n",
       "           warm_start=False)"
      ]
     },
     "execution_count": 23,
     "metadata": {},
     "output_type": "execute_result"
    }
   ],
   "source": [
    "rf = RandomForestRegressor(n_jobs=-1, n_estimators=20,verbose=True)\n",
    "rf.fit(dtrain_dummied, y_train)"
   ]
  },
  {
   "cell_type": "code",
   "execution_count": 24,
   "metadata": {},
   "outputs": [
    {
     "name": "stdout",
     "output_type": "stream",
     "text": [
      "RMSPE: 0.151953\n",
      "('MSE', '1160515.4561582843')\n"
     ]
    },
    {
     "name": "stderr",
     "output_type": "stream",
     "text": [
      "[Parallel(n_jobs=8)]: Done  20 out of  20 | elapsed:    0.0s finished\n"
     ]
    }
   ],
   "source": [
    "yhat = rf.predict(dvalid_dummied)\n",
    "error = rmspe(X_valid.Sales.values, np.expm1(yhat))\n",
    "print('RMSPE: {:.6f}'.format(error))\n",
    "print('MSE',str(mean_squared_error(X_valid.Sales.values, np.expm1(yhat))))"
   ]
  },
  {
   "cell_type": "code",
   "execution_count": 25,
   "metadata": {
    "collapsed": true
   },
   "outputs": [],
   "source": [
    "from sklearn.metrics import mean_squared_error"
   ]
  },
  {
   "cell_type": "code",
   "execution_count": 26,
   "metadata": {},
   "outputs": [
    {
     "data": {
      "text/html": [
       "<div>\n",
       "<style scoped>\n",
       "    .dataframe tbody tr th:only-of-type {\n",
       "        vertical-align: middle;\n",
       "    }\n",
       "\n",
       "    .dataframe tbody tr th {\n",
       "        vertical-align: top;\n",
       "    }\n",
       "\n",
       "    .dataframe thead th {\n",
       "        text-align: right;\n",
       "    }\n",
       "</style>\n",
       "<table border=\"1\" class=\"dataframe\">\n",
       "  <thead>\n",
       "    <tr style=\"text-align: right;\">\n",
       "      <th></th>\n",
       "      <th>Features</th>\n",
       "      <th>Importance</th>\n",
       "    </tr>\n",
       "  </thead>\n",
       "  <tbody>\n",
       "    <tr>\n",
       "      <th>0</th>\n",
       "      <td>CompetitionDistance</td>\n",
       "      <td>3.9831e-01</td>\n",
       "    </tr>\n",
       "    <tr>\n",
       "      <th>1</th>\n",
       "      <td>Promo</td>\n",
       "      <td>1.6394e-01</td>\n",
       "    </tr>\n",
       "    <tr>\n",
       "      <th>4</th>\n",
       "      <td>CompetitionOpen</td>\n",
       "      <td>1.2329e-01</td>\n",
       "    </tr>\n",
       "    <tr>\n",
       "      <th>5</th>\n",
       "      <td>PromoOpen</td>\n",
       "      <td>3.7884e-02</td>\n",
       "    </tr>\n",
       "    <tr>\n",
       "      <th>9</th>\n",
       "      <td>StoreType_d</td>\n",
       "      <td>2.6788e-02</td>\n",
       "    </tr>\n",
       "    <tr>\n",
       "      <th>11</th>\n",
       "      <td>Assortment_c</td>\n",
       "      <td>2.1447e-02</td>\n",
       "    </tr>\n",
       "    <tr>\n",
       "      <th>8</th>\n",
       "      <td>StoreType_c</td>\n",
       "      <td>2.1105e-02</td>\n",
       "    </tr>\n",
       "    <tr>\n",
       "      <th>16</th>\n",
       "      <td>DayOfWeek_5</td>\n",
       "      <td>2.0903e-02</td>\n",
       "    </tr>\n",
       "    <tr>\n",
       "      <th>2</th>\n",
       "      <td>Promo2</td>\n",
       "      <td>1.8440e-02</td>\n",
       "    </tr>\n",
       "    <tr>\n",
       "      <th>7</th>\n",
       "      <td>StoreType_b</td>\n",
       "      <td>1.7331e-02</td>\n",
       "    </tr>\n",
       "    <tr>\n",
       "      <th>30</th>\n",
       "      <td>Month_12</td>\n",
       "      <td>1.5037e-02</td>\n",
       "    </tr>\n",
       "    <tr>\n",
       "      <th>15</th>\n",
       "      <td>DayOfWeek_4</td>\n",
       "      <td>1.1566e-02</td>\n",
       "    </tr>\n",
       "    <tr>\n",
       "      <th>12</th>\n",
       "      <td>DayOfWeek_1</td>\n",
       "      <td>1.1521e-02</td>\n",
       "    </tr>\n",
       "    <tr>\n",
       "      <th>13</th>\n",
       "      <td>DayOfWeek_2</td>\n",
       "      <td>1.0208e-02</td>\n",
       "    </tr>\n",
       "    <tr>\n",
       "      <th>14</th>\n",
       "      <td>DayOfWeek_3</td>\n",
       "      <td>7.7317e-03</td>\n",
       "    </tr>\n",
       "    <tr>\n",
       "      <th>17</th>\n",
       "      <td>DayOfWeek_6</td>\n",
       "      <td>7.1071e-03</td>\n",
       "    </tr>\n",
       "    <tr>\n",
       "      <th>18</th>\n",
       "      <td>Year_2014</td>\n",
       "      <td>7.0832e-03</td>\n",
       "    </tr>\n",
       "    <tr>\n",
       "      <th>19</th>\n",
       "      <td>Year_2015</td>\n",
       "      <td>5.4127e-03</td>\n",
       "    </tr>\n",
       "    <tr>\n",
       "      <th>3</th>\n",
       "      <td>SchoolHoliday</td>\n",
       "      <td>4.9448e-03</td>\n",
       "    </tr>\n",
       "    <tr>\n",
       "      <th>47</th>\n",
       "      <td>WeekOfYear_18</td>\n",
       "      <td>2.8914e-03</td>\n",
       "    </tr>\n",
       "    <tr>\n",
       "      <th>81</th>\n",
       "      <td>WeekOfYear_52</td>\n",
       "      <td>2.8500e-03</td>\n",
       "    </tr>\n",
       "    <tr>\n",
       "      <th>43</th>\n",
       "      <td>WeekOfYear_14</td>\n",
       "      <td>2.5749e-03</td>\n",
       "    </tr>\n",
       "    <tr>\n",
       "      <th>42</th>\n",
       "      <td>WeekOfYear_13</td>\n",
       "      <td>2.5323e-03</td>\n",
       "    </tr>\n",
       "    <tr>\n",
       "      <th>77</th>\n",
       "      <td>WeekOfYear_48</td>\n",
       "      <td>2.4839e-03</td>\n",
       "    </tr>\n",
       "    <tr>\n",
       "      <th>51</th>\n",
       "      <td>WeekOfYear_22</td>\n",
       "      <td>2.2909e-03</td>\n",
       "    </tr>\n",
       "    <tr>\n",
       "      <th>25</th>\n",
       "      <td>Month_7</td>\n",
       "      <td>2.0878e-03</td>\n",
       "    </tr>\n",
       "    <tr>\n",
       "      <th>23</th>\n",
       "      <td>Month_5</td>\n",
       "      <td>2.0112e-03</td>\n",
       "    </tr>\n",
       "    <tr>\n",
       "      <th>80</th>\n",
       "      <td>WeekOfYear_51</td>\n",
       "      <td>1.8374e-03</td>\n",
       "    </tr>\n",
       "    <tr>\n",
       "      <th>6</th>\n",
       "      <td>IsPromoMonth</td>\n",
       "      <td>1.6927e-03</td>\n",
       "    </tr>\n",
       "    <tr>\n",
       "      <th>24</th>\n",
       "      <td>Month_6</td>\n",
       "      <td>1.6226e-03</td>\n",
       "    </tr>\n",
       "    <tr>\n",
       "      <th>...</th>\n",
       "      <td>...</td>\n",
       "      <td>...</td>\n",
       "    </tr>\n",
       "    <tr>\n",
       "      <th>52</th>\n",
       "      <td>WeekOfYear_23</td>\n",
       "      <td>7.7476e-04</td>\n",
       "    </tr>\n",
       "    <tr>\n",
       "      <th>46</th>\n",
       "      <td>WeekOfYear_17</td>\n",
       "      <td>7.6266e-04</td>\n",
       "    </tr>\n",
       "    <tr>\n",
       "      <th>59</th>\n",
       "      <td>WeekOfYear_30</td>\n",
       "      <td>7.3078e-04</td>\n",
       "    </tr>\n",
       "    <tr>\n",
       "      <th>78</th>\n",
       "      <td>WeekOfYear_49</td>\n",
       "      <td>7.1033e-04</td>\n",
       "    </tr>\n",
       "    <tr>\n",
       "      <th>55</th>\n",
       "      <td>WeekOfYear_26</td>\n",
       "      <td>6.8337e-04</td>\n",
       "    </tr>\n",
       "    <tr>\n",
       "      <th>54</th>\n",
       "      <td>WeekOfYear_25</td>\n",
       "      <td>6.5049e-04</td>\n",
       "    </tr>\n",
       "    <tr>\n",
       "      <th>35</th>\n",
       "      <td>WeekOfYear_6</td>\n",
       "      <td>6.4276e-04</td>\n",
       "    </tr>\n",
       "    <tr>\n",
       "      <th>50</th>\n",
       "      <td>WeekOfYear_21</td>\n",
       "      <td>6.4136e-04</td>\n",
       "    </tr>\n",
       "    <tr>\n",
       "      <th>63</th>\n",
       "      <td>WeekOfYear_34</td>\n",
       "      <td>6.2659e-04</td>\n",
       "    </tr>\n",
       "    <tr>\n",
       "      <th>61</th>\n",
       "      <td>WeekOfYear_32</td>\n",
       "      <td>6.2490e-04</td>\n",
       "    </tr>\n",
       "    <tr>\n",
       "      <th>53</th>\n",
       "      <td>WeekOfYear_24</td>\n",
       "      <td>6.1912e-04</td>\n",
       "    </tr>\n",
       "    <tr>\n",
       "      <th>41</th>\n",
       "      <td>WeekOfYear_12</td>\n",
       "      <td>6.0463e-04</td>\n",
       "    </tr>\n",
       "    <tr>\n",
       "      <th>57</th>\n",
       "      <td>WeekOfYear_28</td>\n",
       "      <td>5.9410e-04</td>\n",
       "    </tr>\n",
       "    <tr>\n",
       "      <th>49</th>\n",
       "      <td>WeekOfYear_20</td>\n",
       "      <td>5.9305e-04</td>\n",
       "    </tr>\n",
       "    <tr>\n",
       "      <th>68</th>\n",
       "      <td>WeekOfYear_39</td>\n",
       "      <td>5.5907e-04</td>\n",
       "    </tr>\n",
       "    <tr>\n",
       "      <th>44</th>\n",
       "      <td>WeekOfYear_15</td>\n",
       "      <td>5.5600e-04</td>\n",
       "    </tr>\n",
       "    <tr>\n",
       "      <th>58</th>\n",
       "      <td>WeekOfYear_29</td>\n",
       "      <td>5.3997e-04</td>\n",
       "    </tr>\n",
       "    <tr>\n",
       "      <th>40</th>\n",
       "      <td>WeekOfYear_11</td>\n",
       "      <td>5.3768e-04</td>\n",
       "    </tr>\n",
       "    <tr>\n",
       "      <th>67</th>\n",
       "      <td>WeekOfYear_38</td>\n",
       "      <td>5.2262e-04</td>\n",
       "    </tr>\n",
       "    <tr>\n",
       "      <th>65</th>\n",
       "      <td>WeekOfYear_36</td>\n",
       "      <td>4.9866e-04</td>\n",
       "    </tr>\n",
       "    <tr>\n",
       "      <th>10</th>\n",
       "      <td>Assortment_b</td>\n",
       "      <td>4.8700e-04</td>\n",
       "    </tr>\n",
       "    <tr>\n",
       "      <th>62</th>\n",
       "      <td>WeekOfYear_33</td>\n",
       "      <td>4.8520e-04</td>\n",
       "    </tr>\n",
       "    <tr>\n",
       "      <th>74</th>\n",
       "      <td>WeekOfYear_45</td>\n",
       "      <td>4.4242e-04</td>\n",
       "    </tr>\n",
       "    <tr>\n",
       "      <th>66</th>\n",
       "      <td>WeekOfYear_37</td>\n",
       "      <td>4.3089e-04</td>\n",
       "    </tr>\n",
       "    <tr>\n",
       "      <th>71</th>\n",
       "      <td>WeekOfYear_42</td>\n",
       "      <td>4.0523e-04</td>\n",
       "    </tr>\n",
       "    <tr>\n",
       "      <th>76</th>\n",
       "      <td>WeekOfYear_47</td>\n",
       "      <td>3.9387e-04</td>\n",
       "    </tr>\n",
       "    <tr>\n",
       "      <th>83</th>\n",
       "      <td>StateHoliday_b</td>\n",
       "      <td>3.7629e-04</td>\n",
       "    </tr>\n",
       "    <tr>\n",
       "      <th>75</th>\n",
       "      <td>WeekOfYear_46</td>\n",
       "      <td>3.6964e-04</td>\n",
       "    </tr>\n",
       "    <tr>\n",
       "      <th>70</th>\n",
       "      <td>WeekOfYear_41</td>\n",
       "      <td>3.2086e-04</td>\n",
       "    </tr>\n",
       "    <tr>\n",
       "      <th>84</th>\n",
       "      <td>StateHoliday_c</td>\n",
       "      <td>8.3409e-05</td>\n",
       "    </tr>\n",
       "  </tbody>\n",
       "</table>\n",
       "<p>85 rows × 2 columns</p>\n",
       "</div>"
      ],
      "text/plain": [
       "               Features  Importance\n",
       "0   CompetitionDistance  3.9831e-01\n",
       "1                 Promo  1.6394e-01\n",
       "4       CompetitionOpen  1.2329e-01\n",
       "5             PromoOpen  3.7884e-02\n",
       "9           StoreType_d  2.6788e-02\n",
       "11         Assortment_c  2.1447e-02\n",
       "8           StoreType_c  2.1105e-02\n",
       "16          DayOfWeek_5  2.0903e-02\n",
       "2                Promo2  1.8440e-02\n",
       "7           StoreType_b  1.7331e-02\n",
       "30             Month_12  1.5037e-02\n",
       "15          DayOfWeek_4  1.1566e-02\n",
       "12          DayOfWeek_1  1.1521e-02\n",
       "13          DayOfWeek_2  1.0208e-02\n",
       "14          DayOfWeek_3  7.7317e-03\n",
       "17          DayOfWeek_6  7.1071e-03\n",
       "18            Year_2014  7.0832e-03\n",
       "19            Year_2015  5.4127e-03\n",
       "3         SchoolHoliday  4.9448e-03\n",
       "47        WeekOfYear_18  2.8914e-03\n",
       "81        WeekOfYear_52  2.8500e-03\n",
       "43        WeekOfYear_14  2.5749e-03\n",
       "42        WeekOfYear_13  2.5323e-03\n",
       "77        WeekOfYear_48  2.4839e-03\n",
       "51        WeekOfYear_22  2.2909e-03\n",
       "25              Month_7  2.0878e-03\n",
       "23              Month_5  2.0112e-03\n",
       "80        WeekOfYear_51  1.8374e-03\n",
       "6          IsPromoMonth  1.6927e-03\n",
       "24              Month_6  1.6226e-03\n",
       "..                  ...         ...\n",
       "52        WeekOfYear_23  7.7476e-04\n",
       "46        WeekOfYear_17  7.6266e-04\n",
       "59        WeekOfYear_30  7.3078e-04\n",
       "78        WeekOfYear_49  7.1033e-04\n",
       "55        WeekOfYear_26  6.8337e-04\n",
       "54        WeekOfYear_25  6.5049e-04\n",
       "35         WeekOfYear_6  6.4276e-04\n",
       "50        WeekOfYear_21  6.4136e-04\n",
       "63        WeekOfYear_34  6.2659e-04\n",
       "61        WeekOfYear_32  6.2490e-04\n",
       "53        WeekOfYear_24  6.1912e-04\n",
       "41        WeekOfYear_12  6.0463e-04\n",
       "57        WeekOfYear_28  5.9410e-04\n",
       "49        WeekOfYear_20  5.9305e-04\n",
       "68        WeekOfYear_39  5.5907e-04\n",
       "44        WeekOfYear_15  5.5600e-04\n",
       "58        WeekOfYear_29  5.3997e-04\n",
       "40        WeekOfYear_11  5.3768e-04\n",
       "67        WeekOfYear_38  5.2262e-04\n",
       "65        WeekOfYear_36  4.9866e-04\n",
       "10         Assortment_b  4.8700e-04\n",
       "62        WeekOfYear_33  4.8520e-04\n",
       "74        WeekOfYear_45  4.4242e-04\n",
       "66        WeekOfYear_37  4.3089e-04\n",
       "71        WeekOfYear_42  4.0523e-04\n",
       "76        WeekOfYear_47  3.9387e-04\n",
       "83       StateHoliday_b  3.7629e-04\n",
       "75        WeekOfYear_46  3.6964e-04\n",
       "70        WeekOfYear_41  3.2086e-04\n",
       "84       StateHoliday_c  8.3409e-05\n",
       "\n",
       "[85 rows x 2 columns]"
      ]
     },
     "execution_count": 26,
     "metadata": {},
     "output_type": "execute_result"
    }
   ],
   "source": [
    "feature_imp = pd.DataFrame({'Features':dtrain_dummied.columns, 'Importance':rf.feature_importances_}\n",
    "                          ).sort_values('Importance', ascending=False)\n",
    "feature_imp"
   ]
  },
  {
   "cell_type": "code",
   "execution_count": 27,
   "metadata": {},
   "outputs": [
    {
     "data": {
      "text/plain": [
       "[Text(0,0.5,u'Features'), Text(0.5,0,u'Feature Importance')]"
      ]
     },
     "execution_count": 27,
     "metadata": {},
     "output_type": "execute_result"
    },
    {
     "data": {
      "image/png": "[encoded data removed]",
      "text/plain": [
       "<matplotlib.figure.Figure at 0x5f9def0>"
      ]
     },
     "metadata": {},
     "output_type": "display_data"
    }
   ],
   "source": [
    "feature_imp_top10 = feature_imp.loc[feature_imp.Importance>0.015,:]\n",
    "ax = sns.barplot(x=\"Importance\", y=\"Features\", data=feature_imp_top10)\n",
    "ax.set(xlabel='Feature Importance', ylabel='Features')"
   ]
  },
  {
   "cell_type": "markdown",
   "metadata": {
    "collapsed": true
   },
   "source": [
    "# <u> 5. Validity of the Finding <u>"
   ]
  },
  {
   "cell_type": "markdown",
   "metadata": {},
   "source": [
    "## Finding 1: Sales vs Competition\n",
    "### Summary of Finding 1: There is a possible trend of more customers buying at Rossmann before competition opens, then a sudden drop once it opens. The sales decreasing effect can last relative long time. This effect is most obvious among those stores locate near their comopetitors. But the salse abosule volume of them are still the highest, possiblely due to high traffic drawn by more stores. "
   ]
  },
  {
   "cell_type": "markdown",
   "metadata": {},
   "source": [
    "### Validity of Finding"
   ]
  },
  {
   "cell_type": "markdown",
   "metadata": {},
   "source": [
    "###  1.1 How Does New Competition Affect Sales"
   ]
  },
  {
   "cell_type": "code",
   "execution_count": 28,
   "metadata": {
    "collapsed": true
   },
   "outputs": [],
   "source": [
    "train_org = pd.read_csv('train.csv')\n",
    "store = pd.read_csv('store.csv')"
   ]
  },
  {
   "cell_type": "code",
   "execution_count": 29,
   "metadata": {
    "collapsed": true
   },
   "outputs": [],
   "source": [
    "store['CompDistBin'] = pd.qcut(store.CompetitionDistance, 5, \n",
    "                               labels = ['1 quantile','2 quantile','3 quantile','4 quantile','5 quantile'])"
   ]
  },
  {
   "cell_type": "code",
   "execution_count": 30,
   "metadata": {
    "collapsed": true
   },
   "outputs": [],
   "source": [
    "store.CompetitionOpenSinceMonth = store.CompetitionOpenSinceMonth.fillna(1).astype(int).astype(str)\n",
    "store.CompetitionOpenSinceYear = store.CompetitionOpenSinceYear.fillna(1900).astype(int).astype(str)"
   ]
  },
  {
   "cell_type": "code",
   "execution_count": 31,
   "metadata": {
    "collapsed": true
   },
   "outputs": [],
   "source": [
    "store['CompOpenDate'] = store.CompetitionOpenSinceYear+'-'+store.CompetitionOpenSinceMonth+'-01'\n",
    "store['CompOpenDate'] = pd.to_datetime(store['CompOpenDate'])"
   ]
  },
  {
   "cell_type": "code",
   "execution_count": 32,
   "metadata": {
    "collapsed": true
   },
   "outputs": [],
   "source": [
    "df = pd.merge(train_org, store, how = 'left',on='Store')"
   ]
  },
  {
   "cell_type": "markdown",
   "metadata": {},
   "source": [
    "create competition comparison data frame when sales data is available for new stores"
   ]
  },
  {
   "cell_type": "code",
   "execution_count": 33,
   "metadata": {
    "collapsed": true
   },
   "outputs": [],
   "source": [
    "df = df.loc[(df.CompOpenDate > datetime(2013,1,1))&(df.CompOpenDate<datetime(2015,7,31))&(df.Sales>0),:]"
   ]
  },
  {
   "cell_type": "code",
   "execution_count": 34,
   "metadata": {
    "collapsed": true
   },
   "outputs": [],
   "source": [
    "import seaborn as sns"
   ]
  },
  {
   "cell_type": "code",
   "execution_count": 35,
   "metadata": {},
   "outputs": [
    {
     "data": {
      "text/plain": [
       "<matplotlib.axes._subplots.AxesSubplot at 0x13a8a080>"
      ]
     },
     "execution_count": 35,
     "metadata": {},
     "output_type": "execute_result"
    },
    {
     "data": {
      "image/png": "[encoded data removed]",
      "text/plain": [
       "<matplotlib.figure.Figure at 0x128937b8>"
      ]
     },
     "metadata": {},
     "output_type": "display_data"
    }
   ],
   "source": [
    "date = df[['CompOpenDate']]\n",
    "date.groupby([date[\"CompOpenDate\"].dt.year, date[\"CompOpenDate\"].dt.month]).count().plot(kind=\"bar\")"
   ]
  },
  {
   "cell_type": "markdown",
   "metadata": {},
   "source": [
    "The above plot shows that new competition for Rossmann appears to have arrived fairly randomly for the period in which we have sales data.\n",
    "\n",
    "Now we can see if there is a noticeable trend after stores open:\n",
    "building very simple model sales prediction models — which do not include any competition effects — and looking at the residuals can help isolate the effects of competition and bring all stores to a more similar “level”."
   ]
  },
  {
   "cell_type": "code",
   "execution_count": 36,
   "metadata": {
    "collapsed": true
   },
   "outputs": [],
   "source": [
    "df['AvgSpC'] = df.Sales/df.Customers"
   ]
  },
  {
   "cell_type": "code",
   "execution_count": 37,
   "metadata": {
    "collapsed": true
   },
   "outputs": [],
   "source": [
    "df.Date = pd.to_datetime(df.Date)"
   ]
  },
  {
   "cell_type": "code",
   "execution_count": 38,
   "metadata": {
    "collapsed": true
   },
   "outputs": [],
   "source": [
    "df['IsCompOpen'] = np.where(df.Date>df.CompOpenDate,1,0)\n",
    "df.loc[(df.CompetitionDistance.notnull())&(df.CompOpenDate.isnull()),'IsCompOpen']=1"
   ]
  },
  {
   "cell_type": "code",
   "execution_count": 39,
   "metadata": {
    "collapsed": true
   },
   "outputs": [],
   "source": [
    "df['DaysSinceNewComp'] = (df.Date-df.CompOpenDate).astype(str).apply(lambda x : x.split()[0]).astype(int)\n",
    "df = df.loc[(df.DaysSinceNewComp<=365)&(df.DaysSinceNewComp>=-365),:]"
   ]
  },
  {
   "cell_type": "code",
   "execution_count": 40,
   "metadata": {
    "collapsed": true
   },
   "outputs": [],
   "source": [
    "dayofweek = pd.get_dummies(df.DayOfWeek)\n",
    "store = pd.get_dummies(df.Store)\n",
    "stateholiday =pd.get_dummies(df.StateHoliday)\n",
    "promo = df.Promo.reshape(89274,1)"
   ]
  },
  {
   "cell_type": "code",
   "execution_count": 41,
   "metadata": {},
   "outputs": [
    {
     "data": {
      "text/plain": [
       "Index([u'Store', u'DayOfWeek', u'Date', u'Sales', u'Customers', u'Open',\n",
       "       u'Promo', u'StateHoliday', u'SchoolHoliday', u'StoreType',\n",
       "       u'Assortment', u'CompetitionDistance', u'CompetitionOpenSinceMonth',\n",
       "       u'CompetitionOpenSinceYear', u'Promo2', u'Promo2SinceWeek',\n",
       "       u'Promo2SinceYear', u'PromoInterval', u'CompDistBin', u'CompOpenDate',\n",
       "       u'AvgSpC', u'IsCompOpen', u'DaysSinceNewComp'],\n",
       "      dtype='object')"
      ]
     },
     "execution_count": 41,
     "metadata": {},
     "output_type": "execute_result"
    }
   ],
   "source": [
    "df.columns"
   ]
  },
  {
   "cell_type": "code",
   "execution_count": 42,
   "metadata": {
    "collapsed": true
   },
   "outputs": [],
   "source": [
    "x_train_lr = np.hstack((dayofweek,store,stateholiday,promo))"
   ]
  },
  {
   "cell_type": "code",
   "execution_count": 43,
   "metadata": {},
   "outputs": [
    {
     "data": {
      "text/plain": [
       "LinearRegression(copy_X=True, fit_intercept=True, n_jobs=1, normalize=False)"
      ]
     },
     "execution_count": 43,
     "metadata": {},
     "output_type": "execute_result"
    }
   ],
   "source": [
    "# build simple linear regression models to isolate competition effect\n",
    "lr_cust = LinearRegression()\n",
    "lr_cust.fit(X= x_train_lr,y=df.Customers.values)"
   ]
  },
  {
   "cell_type": "code",
   "execution_count": 44,
   "metadata": {},
   "outputs": [
    {
     "data": {
      "text/plain": [
       "LinearRegression(copy_X=True, fit_intercept=True, n_jobs=1, normalize=False)"
      ]
     },
     "execution_count": 44,
     "metadata": {},
     "output_type": "execute_result"
    }
   ],
   "source": [
    "lr_aspc = LinearRegression()\n",
    "lr_aspc.fit(X=x_train_lr,y=df.AvgSpC.values)"
   ]
  },
  {
   "cell_type": "code",
   "execution_count": 45,
   "metadata": {
    "collapsed": true
   },
   "outputs": [],
   "source": [
    "df['res_lr_cust'] = df.Customers - lr_cust.predict(x_train_lr)"
   ]
  },
  {
   "cell_type": "code",
   "execution_count": 46,
   "metadata": {
    "collapsed": true
   },
   "outputs": [],
   "source": [
    "df['res_lr_aspc'] = df.AvgSpC - lr_aspc.predict(x_train_lr)"
   ]
  },
  {
   "cell_type": "code",
   "execution_count": 47,
   "metadata": {
    "collapsed": true
   },
   "outputs": [],
   "source": [
    "df_agg = df.groupby('DaysSinceNewComp').agg({'Date':'size','IsCompOpen':max,'res_lr_cust':'median','res_lr_aspc':'median'}).reset_index()"
   ]
  },
  {
   "cell_type": "code",
   "execution_count": 48,
   "metadata": {},
   "outputs": [
    {
     "data": {
      "text/html": [
       "<div>\n",
       "<style scoped>\n",
       "    .dataframe tbody tr th:only-of-type {\n",
       "        vertical-align: middle;\n",
       "    }\n",
       "\n",
       "    .dataframe tbody tr th {\n",
       "        vertical-align: top;\n",
       "    }\n",
       "\n",
       "    .dataframe thead th {\n",
       "        text-align: right;\n",
       "    }\n",
       "</style>\n",
       "<table border=\"1\" class=\"dataframe\">\n",
       "  <thead>\n",
       "    <tr style=\"text-align: right;\">\n",
       "      <th></th>\n",
       "      <th>DaysSinceNewComp</th>\n",
       "      <th>Date</th>\n",
       "      <th>res_lr_cust</th>\n",
       "      <th>IsCompOpen</th>\n",
       "      <th>res_lr_aspc</th>\n",
       "    </tr>\n",
       "  </thead>\n",
       "  <tbody>\n",
       "    <tr>\n",
       "      <th>0</th>\n",
       "      <td>-365</td>\n",
       "      <td>65</td>\n",
       "      <td>47.6562</td>\n",
       "      <td>0</td>\n",
       "      <td>0.2342</td>\n",
       "    </tr>\n",
       "    <tr>\n",
       "      <th>1</th>\n",
       "      <td>-364</td>\n",
       "      <td>91</td>\n",
       "      <td>63.1875</td>\n",
       "      <td>0</td>\n",
       "      <td>0.0654</td>\n",
       "    </tr>\n",
       "    <tr>\n",
       "      <th>2</th>\n",
       "      <td>-363</td>\n",
       "      <td>78</td>\n",
       "      <td>25.5625</td>\n",
       "      <td>0</td>\n",
       "      <td>-0.1685</td>\n",
       "    </tr>\n",
       "    <tr>\n",
       "      <th>3</th>\n",
       "      <td>-362</td>\n",
       "      <td>93</td>\n",
       "      <td>17.4062</td>\n",
       "      <td>0</td>\n",
       "      <td>-0.0884</td>\n",
       "    </tr>\n",
       "    <tr>\n",
       "      <th>4</th>\n",
       "      <td>-361</td>\n",
       "      <td>99</td>\n",
       "      <td>-14.6562</td>\n",
       "      <td>0</td>\n",
       "      <td>-0.1859</td>\n",
       "    </tr>\n",
       "  </tbody>\n",
       "</table>\n",
       "</div>"
      ],
      "text/plain": [
       "   DaysSinceNewComp  Date  res_lr_cust  IsCompOpen  res_lr_aspc\n",
       "0              -365    65      47.6562           0       0.2342\n",
       "1              -364    91      63.1875           0       0.0654\n",
       "2              -363    78      25.5625           0      -0.1685\n",
       "3              -362    93      17.4062           0      -0.0884\n",
       "4              -361    99     -14.6562           0      -0.1859"
      ]
     },
     "execution_count": 48,
     "metadata": {},
     "output_type": "execute_result"
    }
   ],
   "source": [
    "df_agg.head()"
   ]
  },
  {
   "cell_type": "code",
   "execution_count": 49,
   "metadata": {
    "collapsed": true
   },
   "outputs": [],
   "source": [
    "from scipy.interpolate import spline"
   ]
  },
  {
   "cell_type": "code",
   "execution_count": 50,
   "metadata": {},
   "outputs": [
    {
     "data": {
      "image/png": "[encoded data removed]",
      "text/plain": [
       "<matplotlib.figure.Figure at 0x131bf518>"
      ]
     },
     "metadata": {},
     "output_type": "display_data"
    }
   ],
   "source": [
    "xnew = np.linspace(df_agg.DaysSinceNewComp.min(),df_agg.DaysSinceNewComp.max(),170)\n",
    "power_smooth = spline(df_agg.DaysSinceNewComp,df_agg.res_lr_cust,xnew,order = 3)\n",
    "\n",
    "z = np.polyfit(df_agg.DaysSinceNewComp, df_agg.res_lr_cust, deg=5)\n",
    "p = np.poly1d(z)\n",
    "\n",
    "plt.plot(xnew,power_smooth)\n",
    "plt.plot(df_agg.DaysSinceNewComp,p(df_agg.DaysSinceNewComp),linewidth=4,)\n",
    "plt.axvline(x=0,color='red',linestyle='--')\n",
    "plt.axhline(y=0,color='k',linestyle='--')\n",
    "plt.xlabel('# of Days After (Before) New Competition')\n",
    "plt.ylabel('Residual of # of Daily Store Customers')\n",
    "plt.show()"
   ]
  },
  {
   "cell_type": "markdown",
   "metadata": {},
   "source": [
    "The plot above now shows a possible trend of more customers buying at Rossmann before competition opens, then an increasing drop once it opens. "
   ]
  },
  {
   "cell_type": "markdown",
   "metadata": {},
   "source": [
    "### 1.2 How does does competition distance affect the opening of a new store?"
   ]
  },
  {
   "cell_type": "code",
   "execution_count": 51,
   "metadata": {
    "collapsed": true
   },
   "outputs": [],
   "source": [
    "df_agg_2 = df.groupby(['DaysSinceNewComp','CompDistBin']\n",
    "                     ).agg({'Date':'size','IsCompOpen':max,'res_lr_cust':'median','res_lr_aspc':'median'}\n",
    "                          ).reset_index()"
   ]
  },
  {
   "cell_type": "code",
   "execution_count": 52,
   "metadata": {},
   "outputs": [
    {
     "data": {
      "text/html": [
       "<div>\n",
       "<style scoped>\n",
       "    .dataframe tbody tr th:only-of-type {\n",
       "        vertical-align: middle;\n",
       "    }\n",
       "\n",
       "    .dataframe tbody tr th {\n",
       "        vertical-align: top;\n",
       "    }\n",
       "\n",
       "    .dataframe thead th {\n",
       "        text-align: right;\n",
       "    }\n",
       "</style>\n",
       "<table border=\"1\" class=\"dataframe\">\n",
       "  <thead>\n",
       "    <tr style=\"text-align: right;\">\n",
       "      <th></th>\n",
       "      <th>DaysSinceNewComp</th>\n",
       "      <th>CompDistBin</th>\n",
       "      <th>Date</th>\n",
       "      <th>res_lr_cust</th>\n",
       "      <th>IsCompOpen</th>\n",
       "      <th>res_lr_aspc</th>\n",
       "    </tr>\n",
       "  </thead>\n",
       "  <tbody>\n",
       "    <tr>\n",
       "      <th>0</th>\n",
       "      <td>-365</td>\n",
       "      <td>1 quantile</td>\n",
       "      <td>11</td>\n",
       "      <td>73.0000</td>\n",
       "      <td>0</td>\n",
       "      <td>0.4422</td>\n",
       "    </tr>\n",
       "    <tr>\n",
       "      <th>1</th>\n",
       "      <td>-365</td>\n",
       "      <td>2 quantile</td>\n",
       "      <td>14</td>\n",
       "      <td>46.3438</td>\n",
       "      <td>0</td>\n",
       "      <td>0.2928</td>\n",
       "    </tr>\n",
       "    <tr>\n",
       "      <th>2</th>\n",
       "      <td>-365</td>\n",
       "      <td>3 quantile</td>\n",
       "      <td>15</td>\n",
       "      <td>130.8125</td>\n",
       "      <td>0</td>\n",
       "      <td>0.1061</td>\n",
       "    </tr>\n",
       "    <tr>\n",
       "      <th>3</th>\n",
       "      <td>-365</td>\n",
       "      <td>4 quantile</td>\n",
       "      <td>12</td>\n",
       "      <td>29.0000</td>\n",
       "      <td>0</td>\n",
       "      <td>0.3249</td>\n",
       "    </tr>\n",
       "    <tr>\n",
       "      <th>4</th>\n",
       "      <td>-365</td>\n",
       "      <td>5 quantile</td>\n",
       "      <td>13</td>\n",
       "      <td>9.8125</td>\n",
       "      <td>0</td>\n",
       "      <td>-0.2134</td>\n",
       "    </tr>\n",
       "  </tbody>\n",
       "</table>\n",
       "</div>"
      ],
      "text/plain": [
       "   DaysSinceNewComp CompDistBin  Date  res_lr_cust  IsCompOpen  res_lr_aspc\n",
       "0              -365  1 quantile    11      73.0000           0       0.4422\n",
       "1              -365  2 quantile    14      46.3438           0       0.2928\n",
       "2              -365  3 quantile    15     130.8125           0       0.1061\n",
       "3              -365  4 quantile    12      29.0000           0       0.3249\n",
       "4              -365  5 quantile    13       9.8125           0      -0.2134"
      ]
     },
     "execution_count": 52,
     "metadata": {},
     "output_type": "execute_result"
    }
   ],
   "source": [
    "df_agg_2.head()"
   ]
  },
  {
   "cell_type": "code",
   "execution_count": 53,
   "metadata": {},
   "outputs": [
    {
     "data": {
      "image/png": "[encoded data removed]",
      "text/plain": [
       "<matplotlib.figure.Figure at 0x10bea9e8>"
      ]
     },
     "metadata": {},
     "output_type": "display_data"
    }
   ],
   "source": [
    "#xnew_1 = np.linspace(df_agg_2[df_agg_2.CompDistBin=='1 quantile'].DaysSinceNewComp.min(),df_agg_2[df_agg_2.CompDistBin=='1 quantile'].DaysSinceNewComp.max(),170)\n",
    "#power_smooth_1 = spline(df_agg_2[df_agg_2.CompDistBin=='1 quantile'].DaysSinceNewComp,df_agg_2[df_agg_2.CompDistBin=='1 quantile'].res_lr_cust,xnew)\n",
    "\n",
    "z_1 = np.polyfit(df_agg_2[df_agg_2.CompDistBin=='1 quantile'].DaysSinceNewComp, df_agg_2[df_agg_2.CompDistBin=='1 quantile'].res_lr_cust, deg=5)\n",
    "p_1 = np.poly1d(z_1)\n",
    "\n",
    "z_2 = np.polyfit(df_agg_2[df_agg_2.CompDistBin=='2 quantile'].DaysSinceNewComp, df_agg_2[df_agg_2.CompDistBin=='2 quantile'].res_lr_cust, deg=5)\n",
    "p_2 = np.poly1d(z_2)\n",
    "\n",
    "z_3 = np.polyfit(df_agg_2[df_agg_2.CompDistBin=='3 quantile'].DaysSinceNewComp, df_agg_2[df_agg_2.CompDistBin=='3 quantile'].res_lr_cust, deg=5)\n",
    "p_3 = np.poly1d(z_3)\n",
    "\n",
    "z_4 = np.polyfit(df_agg_2[df_agg_2.CompDistBin=='4 quantile'].DaysSinceNewComp, df_agg_2[df_agg_2.CompDistBin=='4 quantile'].res_lr_cust, deg=5)\n",
    "p_4 = np.poly1d(z_4)\n",
    "z_5 = np.polyfit(df_agg_2[df_agg_2.CompDistBin=='5 quantile'].DaysSinceNewComp, df_agg_2[df_agg_2.CompDistBin=='5 quantile'].res_lr_cust, deg=5)\n",
    "p_5 = np.poly1d(z_5)\n",
    "\n",
    "#plt.plot(xnew_1,power_smooth_1)\n",
    "plt.plot(df_agg_2[df_agg_2.CompDistBin=='1 quantile'].DaysSinceNewComp,p_1(df_agg_2[df_agg_2.CompDistBin=='1 quantile'].DaysSinceNewComp),linewidth=4,label='1 quantile')\n",
    "plt.plot(df_agg_2[df_agg_2.CompDistBin=='2 quantile'].DaysSinceNewComp,p_2(df_agg_2[df_agg_2.CompDistBin=='2 quantile'].DaysSinceNewComp),linewidth=4,label='2 quantile')\n",
    "plt.plot(df_agg_2[df_agg_2.CompDistBin=='3 quantile'].DaysSinceNewComp,p_3(df_agg_2[df_agg_2.CompDistBin=='3 quantile'].DaysSinceNewComp),linewidth=4,label='3 quantile')\n",
    "plt.plot(df_agg_2[df_agg_2.CompDistBin=='4 quantile'].DaysSinceNewComp,p_4(df_agg_2[df_agg_2.CompDistBin=='4 quantile'].DaysSinceNewComp),linewidth=4,label='4 quantile')\n",
    "plt.plot(df_agg_2[df_agg_2.CompDistBin=='5 quantile'].DaysSinceNewComp,p_5(df_agg_2[df_agg_2.CompDistBin=='5 quantile'].DaysSinceNewComp),linewidth=4,label='5 quantile')\n",
    "\n",
    "\n",
    "plt.axvline(x=0,color='red',linestyle='--')\n",
    "plt.axhline(y=0,color='k',linestyle='--')\n",
    "plt.legend(title='Competition Distance Quantile')\n",
    "plt.xlabel('# of Days After (Before) New Competition')\n",
    "plt.ylabel('Residual of # of Daily Store Customers')\n",
    "plt.show()"
   ]
  },
  {
   "cell_type": "markdown",
   "metadata": {},
   "source": [
    "The pattern here stands out. Stores that have the closest competition are in the 1st quintile, and the effect of new competition opening up for them is by far the strongest. The effects decrease in magnitude for the 2nd and 3rd quintiles, respectively. In contrast, the 4th and 5th quintiles — with competition the furthest away — appear to not be affected at all when new competition opens. "
   ]
  },
  {
   "cell_type": "markdown",
   "metadata": {},
   "source": [
    "Overall, new competition and that competition distance strongly affects Rossmann sales. The magnitude of these effects suggests this insight can be valuable for both building sales forecasting models as business strategy in planning store locations, anticipating new competition, and reacting to new competition."
   ]
  },
  {
   "cell_type": "markdown",
   "metadata": {},
   "source": [
    "### Finding 1 Maganerial Insight: Though new competitors might attract some sales from those stores, the sales bases are still higher than those of stores in other areas. When opening new stores, this tradeoff has to be considered when deciding store location.  Overall, opening stores in busy shopping district is still worth consideration if there's no existing Rossmann stores nearby. Additionally, the stores locate near competitors should differentiate the products to be more competitive to attract customers."
   ]
  },
  {
   "cell_type": "markdown",
   "metadata": {},
   "source": [
    "### FInding 1 Machine Learning Mastery: RandomizedSearch for finding best parameters"
   ]
  },
  {
   "cell_type": "code",
   "execution_count": 54,
   "metadata": {
    "collapsed": true
   },
   "outputs": [],
   "source": [
    "param_dist={'n_estimators':[20,30],\n",
    " 'max_features': ['auto', 'sqrt'],\n",
    " 'min_samples_leaf': [1, 2, 4],\n",
    " 'min_samples_split': [2, 5, 10]}"
   ]
  },
  {
   "cell_type": "code",
   "execution_count": 55,
   "metadata": {
    "collapsed": true
   },
   "outputs": [],
   "source": [
    "n_iter_search = 10\n",
    "rfr = RandomForestRegressor(bootstrap=True)\n",
    "random_search = RandomizedSearchCV(rfr, param_distributions=param_dist,\n",
    "                                   n_iter=n_iter_search)"
   ]
  },
  {
   "cell_type": "code",
   "execution_count": 56,
   "metadata": {},
   "outputs": [
    {
     "data": {
      "text/plain": [
       "RandomizedSearchCV(cv=None, error_score='raise',\n",
       "          estimator=RandomForestRegressor(bootstrap=True, criterion='mse', max_depth=None,\n",
       "           max_features='auto', max_leaf_nodes=None,\n",
       "           min_impurity_decrease=0.0, min_impurity_split=None,\n",
       "           min_samples_leaf=1, min_samples_split=2,\n",
       "           min_weight_fraction_leaf=0.0, n_estimators=10, n_jobs=1,\n",
       "           oob_score=False, random_state=None, verbose=0, warm_start=False),\n",
       "          fit_params=None, iid=True, n_iter=10, n_jobs=1,\n",
       "          param_distributions={'n_estimators': [20, 30], 'max_features': ['auto', 'sqrt'], 'min_samples_split': [2, 5, 10], 'min_samples_leaf': [1, 2, 4]},\n",
       "          pre_dispatch='2*n_jobs', random_state=None, refit=True,\n",
       "          return_train_score='warn', scoring=None, verbose=0)"
      ]
     },
     "execution_count": 56,
     "metadata": {},
     "output_type": "execute_result"
    }
   ],
   "source": [
    "random_search.fit(dtrain_dummied, y_train)"
   ]
  },
  {
   "cell_type": "code",
   "execution_count": 57,
   "metadata": {},
   "outputs": [
    {
     "name": "stdout",
     "output_type": "stream",
     "text": [
      "Model with rank: 1\n",
      "Mean validation score: 0.882 (std: 0.000)\n",
      "Parameters: {'n_estimators': 30, 'min_samples_split': 5, 'max_features': 'auto', 'min_samples_leaf': 1}\n",
      "\n",
      "Model with rank: 2\n",
      "Mean validation score: 0.881 (std: 0.000)\n",
      "Parameters: {'n_estimators': 30, 'min_samples_split': 5, 'max_features': 'auto', 'min_samples_leaf': 2}\n",
      "\n",
      "Model with rank: 3\n",
      "Mean validation score: 0.881 (std: 0.000)\n",
      "Parameters: {'n_estimators': 30, 'min_samples_split': 10, 'max_features': 'auto', 'min_samples_leaf': 1}\n",
      "\n"
     ]
    }
   ],
   "source": [
    "# Utility function to report best scores\n",
    "def report(results, n_top=3):\n",
    "    for i in range(1, n_top + 1):\n",
    "        candidates = np.flatnonzero(results['rank_test_score'] == i)\n",
    "        for candidate in candidates:\n",
    "            print(\"Model with rank: {0}\".format(i))\n",
    "            print(\"Mean validation score: {0:.3f} (std: {1:.3f})\".format(\n",
    "                  results['mean_test_score'][candidate],\n",
    "                  results['std_test_score'][candidate]))\n",
    "            print(\"Parameters: {0}\".format(results['params'][candidate]))\n",
    "            print(\"\")\n",
    "report(random_search.cv_results_)"
   ]
  },
  {
   "cell_type": "code",
   "execution_count": 58,
   "metadata": {},
   "outputs": [
    {
     "data": {
      "text/plain": [
       "{'max_features': 'auto',\n",
       " 'min_samples_leaf': 1,\n",
       " 'min_samples_split': 5,\n",
       " 'n_estimators': 30}"
      ]
     },
     "execution_count": 58,
     "metadata": {},
     "output_type": "execute_result"
    }
   ],
   "source": [
    "random_search.best_params_"
   ]
  },
  {
   "cell_type": "code",
   "execution_count": 59,
   "metadata": {},
   "outputs": [
    {
     "data": {
      "text/plain": [
       "RandomForestRegressor(bootstrap=True, criterion='mse', max_depth=None,\n",
       "           max_features='auto', max_leaf_nodes=None,\n",
       "           min_impurity_decrease=0.0, min_impurity_split=None,\n",
       "           min_samples_leaf=1, min_samples_split=5,\n",
       "           min_weight_fraction_leaf=0.0, n_estimators=30, n_jobs=-1,\n",
       "           oob_score=False, random_state=None, verbose=0, warm_start=False)"
      ]
     },
     "execution_count": 59,
     "metadata": {},
     "output_type": "execute_result"
    }
   ],
   "source": [
    "rf2 = RandomForestRegressor(n_jobs=-1, n_estimators=30,bootstrap=True,max_features='auto',min_samples_leaf=1,min_samples_split=5)\n",
    "rf2.fit(dtrain_dummied, y_train)"
   ]
  },
  {
   "cell_type": "code",
   "execution_count": 60,
   "metadata": {},
   "outputs": [
    {
     "name": "stdout",
     "output_type": "stream",
     "text": [
      "RMSPE: 0.147277\n",
      "('MSE', '1120940.7869290677')\n"
     ]
    }
   ],
   "source": [
    "yhat2 = rf2.predict(dvalid_dummied)\n",
    "error = rmspe(X_valid.Sales.values, np.expm1(yhat2))\n",
    "print('RMSPE: {:.6f}'.format(error))\n",
    "print('MSE',str(mean_squared_error(X_valid.Sales.values, np.expm1(yhat2))))"
   ]
  },
  {
   "cell_type": "code",
   "execution_count": 61,
   "metadata": {
    "collapsed": true
   },
   "outputs": [],
   "source": [
    "ypred = rf2.predict(dvalid_dummied)"
   ]
  },
  {
   "cell_type": "code",
   "execution_count": 62,
   "metadata": {},
   "outputs": [
    {
     "data": {
      "text/plain": [
       "[Text(0,0.5,u'Predicted Sales'), Text(0.5,0,u'True Sales in Validation Data')]"
      ]
     },
     "execution_count": 62,
     "metadata": {},
     "output_type": "execute_result"
    },
    {
     "data": {
      "image/png": "[encoded data removed]",
      "text/plain": [
       "<matplotlib.figure.Figure at 0x13eb3ba8>"
      ]
     },
     "metadata": {},
     "output_type": "display_data"
    }
   ],
   "source": [
    "ax = sns.regplot(x=X_valid.Sales.values, y=np.expm1(ypred),scatter_kws={\"color\": \"grey\"},ci=95)\n",
    "ax.set(xlabel='True Sales in Validation Data', ylabel='Predicted Sales')"
   ]
  },
  {
   "cell_type": "code",
   "execution_count": 63,
   "metadata": {
    "collapsed": true
   },
   "outputs": [],
   "source": [
    "from sklearn.metrics import mean_squared_error"
   ]
  },
  {
   "cell_type": "code",
   "execution_count": 64,
   "metadata": {},
   "outputs": [
    {
     "name": "stdout",
     "output_type": "stream",
     "text": [
      "RMSPE: 0.147277\n"
     ]
    }
   ],
   "source": [
    "error = rmspe(X_valid.Sales.values, np.expm1(ypred))\n",
    "print('RMSPE: {:.6f}'.format(error))"
   ]
  },
  {
   "cell_type": "code",
   "execution_count": 65,
   "metadata": {},
   "outputs": [
    {
     "data": {
      "text/html": [
       "<div>\n",
       "<style scoped>\n",
       "    .dataframe tbody tr th:only-of-type {\n",
       "        vertical-align: middle;\n",
       "    }\n",
       "\n",
       "    .dataframe tbody tr th {\n",
       "        vertical-align: top;\n",
       "    }\n",
       "\n",
       "    .dataframe thead th {\n",
       "        text-align: right;\n",
       "    }\n",
       "</style>\n",
       "<table border=\"1\" class=\"dataframe\">\n",
       "  <thead>\n",
       "    <tr style=\"text-align: right;\">\n",
       "      <th></th>\n",
       "      <th>Features</th>\n",
       "      <th>Importance</th>\n",
       "    </tr>\n",
       "  </thead>\n",
       "  <tbody>\n",
       "    <tr>\n",
       "      <th>0</th>\n",
       "      <td>CompetitionDistance</td>\n",
       "      <td>4.0316e-01</td>\n",
       "    </tr>\n",
       "    <tr>\n",
       "      <th>1</th>\n",
       "      <td>Promo</td>\n",
       "      <td>1.6710e-01</td>\n",
       "    </tr>\n",
       "    <tr>\n",
       "      <th>4</th>\n",
       "      <td>CompetitionOpen</td>\n",
       "      <td>1.2211e-01</td>\n",
       "    </tr>\n",
       "    <tr>\n",
       "      <th>5</th>\n",
       "      <td>PromoOpen</td>\n",
       "      <td>3.7363e-02</td>\n",
       "    </tr>\n",
       "    <tr>\n",
       "      <th>9</th>\n",
       "      <td>StoreType_d</td>\n",
       "      <td>2.6432e-02</td>\n",
       "    </tr>\n",
       "    <tr>\n",
       "      <th>11</th>\n",
       "      <td>Assortment_c</td>\n",
       "      <td>2.2115e-02</td>\n",
       "    </tr>\n",
       "    <tr>\n",
       "      <th>8</th>\n",
       "      <td>StoreType_c</td>\n",
       "      <td>2.1583e-02</td>\n",
       "    </tr>\n",
       "    <tr>\n",
       "      <th>16</th>\n",
       "      <td>DayOfWeek_5</td>\n",
       "      <td>2.1303e-02</td>\n",
       "    </tr>\n",
       "    <tr>\n",
       "      <th>2</th>\n",
       "      <td>Promo2</td>\n",
       "      <td>1.8949e-02</td>\n",
       "    </tr>\n",
       "    <tr>\n",
       "      <th>7</th>\n",
       "      <td>StoreType_b</td>\n",
       "      <td>1.7373e-02</td>\n",
       "    </tr>\n",
       "    <tr>\n",
       "      <th>30</th>\n",
       "      <td>Month_12</td>\n",
       "      <td>1.5294e-02</td>\n",
       "    </tr>\n",
       "    <tr>\n",
       "      <th>15</th>\n",
       "      <td>DayOfWeek_4</td>\n",
       "      <td>1.1386e-02</td>\n",
       "    </tr>\n",
       "    <tr>\n",
       "      <th>12</th>\n",
       "      <td>DayOfWeek_1</td>\n",
       "      <td>1.0262e-02</td>\n",
       "    </tr>\n",
       "    <tr>\n",
       "      <th>13</th>\n",
       "      <td>DayOfWeek_2</td>\n",
       "      <td>9.0433e-03</td>\n",
       "    </tr>\n",
       "    <tr>\n",
       "      <th>17</th>\n",
       "      <td>DayOfWeek_6</td>\n",
       "      <td>7.1737e-03</td>\n",
       "    </tr>\n",
       "    <tr>\n",
       "      <th>14</th>\n",
       "      <td>DayOfWeek_3</td>\n",
       "      <td>6.6486e-03</td>\n",
       "    </tr>\n",
       "    <tr>\n",
       "      <th>18</th>\n",
       "      <td>Year_2014</td>\n",
       "      <td>5.8307e-03</td>\n",
       "    </tr>\n",
       "    <tr>\n",
       "      <th>19</th>\n",
       "      <td>Year_2015</td>\n",
       "      <td>5.0976e-03</td>\n",
       "    </tr>\n",
       "    <tr>\n",
       "      <th>3</th>\n",
       "      <td>SchoolHoliday</td>\n",
       "      <td>4.3658e-03</td>\n",
       "    </tr>\n",
       "    <tr>\n",
       "      <th>47</th>\n",
       "      <td>WeekOfYear_18</td>\n",
       "      <td>2.8987e-03</td>\n",
       "    </tr>\n",
       "    <tr>\n",
       "      <th>81</th>\n",
       "      <td>WeekOfYear_52</td>\n",
       "      <td>2.7879e-03</td>\n",
       "    </tr>\n",
       "    <tr>\n",
       "      <th>43</th>\n",
       "      <td>WeekOfYear_14</td>\n",
       "      <td>2.5503e-03</td>\n",
       "    </tr>\n",
       "    <tr>\n",
       "      <th>77</th>\n",
       "      <td>WeekOfYear_48</td>\n",
       "      <td>2.5253e-03</td>\n",
       "    </tr>\n",
       "    <tr>\n",
       "      <th>42</th>\n",
       "      <td>WeekOfYear_13</td>\n",
       "      <td>2.4695e-03</td>\n",
       "    </tr>\n",
       "    <tr>\n",
       "      <th>51</th>\n",
       "      <td>WeekOfYear_22</td>\n",
       "      <td>2.2743e-03</td>\n",
       "    </tr>\n",
       "    <tr>\n",
       "      <th>25</th>\n",
       "      <td>Month_7</td>\n",
       "      <td>2.0579e-03</td>\n",
       "    </tr>\n",
       "    <tr>\n",
       "      <th>23</th>\n",
       "      <td>Month_5</td>\n",
       "      <td>1.9448e-03</td>\n",
       "    </tr>\n",
       "    <tr>\n",
       "      <th>80</th>\n",
       "      <td>WeekOfYear_51</td>\n",
       "      <td>1.8161e-03</td>\n",
       "    </tr>\n",
       "    <tr>\n",
       "      <th>69</th>\n",
       "      <td>WeekOfYear_40</td>\n",
       "      <td>1.6412e-03</td>\n",
       "    </tr>\n",
       "    <tr>\n",
       "      <th>24</th>\n",
       "      <td>Month_6</td>\n",
       "      <td>1.5450e-03</td>\n",
       "    </tr>\n",
       "    <tr>\n",
       "      <th>...</th>\n",
       "      <td>...</td>\n",
       "      <td>...</td>\n",
       "    </tr>\n",
       "    <tr>\n",
       "      <th>52</th>\n",
       "      <td>WeekOfYear_23</td>\n",
       "      <td>7.4166e-04</td>\n",
       "    </tr>\n",
       "    <tr>\n",
       "      <th>46</th>\n",
       "      <td>WeekOfYear_17</td>\n",
       "      <td>7.2979e-04</td>\n",
       "    </tr>\n",
       "    <tr>\n",
       "      <th>78</th>\n",
       "      <td>WeekOfYear_49</td>\n",
       "      <td>7.2548e-04</td>\n",
       "    </tr>\n",
       "    <tr>\n",
       "      <th>59</th>\n",
       "      <td>WeekOfYear_30</td>\n",
       "      <td>6.7611e-04</td>\n",
       "    </tr>\n",
       "    <tr>\n",
       "      <th>55</th>\n",
       "      <td>WeekOfYear_26</td>\n",
       "      <td>6.4028e-04</td>\n",
       "    </tr>\n",
       "    <tr>\n",
       "      <th>61</th>\n",
       "      <td>WeekOfYear_32</td>\n",
       "      <td>6.1116e-04</td>\n",
       "    </tr>\n",
       "    <tr>\n",
       "      <th>63</th>\n",
       "      <td>WeekOfYear_34</td>\n",
       "      <td>6.0353e-04</td>\n",
       "    </tr>\n",
       "    <tr>\n",
       "      <th>10</th>\n",
       "      <td>Assortment_b</td>\n",
       "      <td>5.9957e-04</td>\n",
       "    </tr>\n",
       "    <tr>\n",
       "      <th>54</th>\n",
       "      <td>WeekOfYear_25</td>\n",
       "      <td>5.8722e-04</td>\n",
       "    </tr>\n",
       "    <tr>\n",
       "      <th>53</th>\n",
       "      <td>WeekOfYear_24</td>\n",
       "      <td>5.7828e-04</td>\n",
       "    </tr>\n",
       "    <tr>\n",
       "      <th>50</th>\n",
       "      <td>WeekOfYear_21</td>\n",
       "      <td>5.7203e-04</td>\n",
       "    </tr>\n",
       "    <tr>\n",
       "      <th>35</th>\n",
       "      <td>WeekOfYear_6</td>\n",
       "      <td>5.6909e-04</td>\n",
       "    </tr>\n",
       "    <tr>\n",
       "      <th>41</th>\n",
       "      <td>WeekOfYear_12</td>\n",
       "      <td>5.6116e-04</td>\n",
       "    </tr>\n",
       "    <tr>\n",
       "      <th>68</th>\n",
       "      <td>WeekOfYear_39</td>\n",
       "      <td>5.6067e-04</td>\n",
       "    </tr>\n",
       "    <tr>\n",
       "      <th>49</th>\n",
       "      <td>WeekOfYear_20</td>\n",
       "      <td>5.3071e-04</td>\n",
       "    </tr>\n",
       "    <tr>\n",
       "      <th>57</th>\n",
       "      <td>WeekOfYear_28</td>\n",
       "      <td>5.2484e-04</td>\n",
       "    </tr>\n",
       "    <tr>\n",
       "      <th>44</th>\n",
       "      <td>WeekOfYear_15</td>\n",
       "      <td>5.0318e-04</td>\n",
       "    </tr>\n",
       "    <tr>\n",
       "      <th>67</th>\n",
       "      <td>WeekOfYear_38</td>\n",
       "      <td>4.9041e-04</td>\n",
       "    </tr>\n",
       "    <tr>\n",
       "      <th>40</th>\n",
       "      <td>WeekOfYear_11</td>\n",
       "      <td>4.8185e-04</td>\n",
       "    </tr>\n",
       "    <tr>\n",
       "      <th>58</th>\n",
       "      <td>WeekOfYear_29</td>\n",
       "      <td>4.8064e-04</td>\n",
       "    </tr>\n",
       "    <tr>\n",
       "      <th>65</th>\n",
       "      <td>WeekOfYear_36</td>\n",
       "      <td>4.7798e-04</td>\n",
       "    </tr>\n",
       "    <tr>\n",
       "      <th>62</th>\n",
       "      <td>WeekOfYear_33</td>\n",
       "      <td>4.4145e-04</td>\n",
       "    </tr>\n",
       "    <tr>\n",
       "      <th>74</th>\n",
       "      <td>WeekOfYear_45</td>\n",
       "      <td>4.2547e-04</td>\n",
       "    </tr>\n",
       "    <tr>\n",
       "      <th>66</th>\n",
       "      <td>WeekOfYear_37</td>\n",
       "      <td>3.9830e-04</td>\n",
       "    </tr>\n",
       "    <tr>\n",
       "      <th>83</th>\n",
       "      <td>StateHoliday_b</td>\n",
       "      <td>3.8761e-04</td>\n",
       "    </tr>\n",
       "    <tr>\n",
       "      <th>71</th>\n",
       "      <td>WeekOfYear_42</td>\n",
       "      <td>3.7976e-04</td>\n",
       "    </tr>\n",
       "    <tr>\n",
       "      <th>76</th>\n",
       "      <td>WeekOfYear_47</td>\n",
       "      <td>3.7880e-04</td>\n",
       "    </tr>\n",
       "    <tr>\n",
       "      <th>75</th>\n",
       "      <td>WeekOfYear_46</td>\n",
       "      <td>3.4122e-04</td>\n",
       "    </tr>\n",
       "    <tr>\n",
       "      <th>70</th>\n",
       "      <td>WeekOfYear_41</td>\n",
       "      <td>2.9444e-04</td>\n",
       "    </tr>\n",
       "    <tr>\n",
       "      <th>84</th>\n",
       "      <td>StateHoliday_c</td>\n",
       "      <td>9.0511e-05</td>\n",
       "    </tr>\n",
       "  </tbody>\n",
       "</table>\n",
       "<p>85 rows × 2 columns</p>\n",
       "</div>"
      ],
      "text/plain": [
       "               Features  Importance\n",
       "0   CompetitionDistance  4.0316e-01\n",
       "1                 Promo  1.6710e-01\n",
       "4       CompetitionOpen  1.2211e-01\n",
       "5             PromoOpen  3.7363e-02\n",
       "9           StoreType_d  2.6432e-02\n",
       "11         Assortment_c  2.2115e-02\n",
       "8           StoreType_c  2.1583e-02\n",
       "16          DayOfWeek_5  2.1303e-02\n",
       "2                Promo2  1.8949e-02\n",
       "7           StoreType_b  1.7373e-02\n",
       "30             Month_12  1.5294e-02\n",
       "15          DayOfWeek_4  1.1386e-02\n",
       "12          DayOfWeek_1  1.0262e-02\n",
       "13          DayOfWeek_2  9.0433e-03\n",
       "17          DayOfWeek_6  7.1737e-03\n",
       "14          DayOfWeek_3  6.6486e-03\n",
       "18            Year_2014  5.8307e-03\n",
       "19            Year_2015  5.0976e-03\n",
       "3         SchoolHoliday  4.3658e-03\n",
       "47        WeekOfYear_18  2.8987e-03\n",
       "81        WeekOfYear_52  2.7879e-03\n",
       "43        WeekOfYear_14  2.5503e-03\n",
       "77        WeekOfYear_48  2.5253e-03\n",
       "42        WeekOfYear_13  2.4695e-03\n",
       "51        WeekOfYear_22  2.2743e-03\n",
       "25              Month_7  2.0579e-03\n",
       "23              Month_5  1.9448e-03\n",
       "80        WeekOfYear_51  1.8161e-03\n",
       "69        WeekOfYear_40  1.6412e-03\n",
       "24              Month_6  1.5450e-03\n",
       "..                  ...         ...\n",
       "52        WeekOfYear_23  7.4166e-04\n",
       "46        WeekOfYear_17  7.2979e-04\n",
       "78        WeekOfYear_49  7.2548e-04\n",
       "59        WeekOfYear_30  6.7611e-04\n",
       "55        WeekOfYear_26  6.4028e-04\n",
       "61        WeekOfYear_32  6.1116e-04\n",
       "63        WeekOfYear_34  6.0353e-04\n",
       "10         Assortment_b  5.9957e-04\n",
       "54        WeekOfYear_25  5.8722e-04\n",
       "53        WeekOfYear_24  5.7828e-04\n",
       "50        WeekOfYear_21  5.7203e-04\n",
       "35         WeekOfYear_6  5.6909e-04\n",
       "41        WeekOfYear_12  5.6116e-04\n",
       "68        WeekOfYear_39  5.6067e-04\n",
       "49        WeekOfYear_20  5.3071e-04\n",
       "57        WeekOfYear_28  5.2484e-04\n",
       "44        WeekOfYear_15  5.0318e-04\n",
       "67        WeekOfYear_38  4.9041e-04\n",
       "40        WeekOfYear_11  4.8185e-04\n",
       "58        WeekOfYear_29  4.8064e-04\n",
       "65        WeekOfYear_36  4.7798e-04\n",
       "62        WeekOfYear_33  4.4145e-04\n",
       "74        WeekOfYear_45  4.2547e-04\n",
       "66        WeekOfYear_37  3.9830e-04\n",
       "83       StateHoliday_b  3.8761e-04\n",
       "71        WeekOfYear_42  3.7976e-04\n",
       "76        WeekOfYear_47  3.7880e-04\n",
       "75        WeekOfYear_46  3.4122e-04\n",
       "70        WeekOfYear_41  2.9444e-04\n",
       "84       StateHoliday_c  9.0511e-05\n",
       "\n",
       "[85 rows x 2 columns]"
      ]
     },
     "execution_count": 65,
     "metadata": {},
     "output_type": "execute_result"
    }
   ],
   "source": [
    "feature_imp = pd.DataFrame({'Features':dtrain_dummied.columns, 'Importance':rf2.feature_importances_}\n",
    "                          ).sort_values('Importance', ascending=False)\n",
    "feature_imp"
   ]
  },
  {
   "cell_type": "code",
   "execution_count": 66,
   "metadata": {},
   "outputs": [
    {
     "data": {
      "text/plain": [
       "[Text(0,0.5,u'Features'), Text(0.5,0,u'Feature Importance')]"
      ]
     },
     "execution_count": 66,
     "metadata": {},
     "output_type": "execute_result"
    },
    {
     "data": {
      "image/png": "[encoded data removed]",
      "text/plain": [
       "<matplotlib.figure.Figure at 0x13fbe6a0>"
      ]
     },
     "metadata": {},
     "output_type": "display_data"
    }
   ],
   "source": [
    "feature_imp_top10 = feature_imp.loc[feature_imp.Importance>0.015,:]\n",
    "ax = sns.barplot(x=\"Importance\", y=\"Features\", data=feature_imp_top10)\n",
    "ax.set(xlabel='Feature Importance', ylabel='Features')"
   ]
  },
  {
   "cell_type": "markdown",
   "metadata": {},
   "source": [
    "<b>In conclusion, the regression verifies that both new competition and competition distance play important role in sales.</b>"
   ]
  },
  {
   "cell_type": "markdown",
   "metadata": {},
   "source": [
    "## Finding 2: Sales vs StoreType\n",
    "### Summary of Finding: Type B store is the most popular type of store and attracts the highest average sales. In terms of sales per customer, type D store stands out. Interestingly, only type B store has the assortment level c (extra product mix)."
   ]
  },
  {
   "cell_type": "markdown",
   "metadata": {},
   "source": [
    "### Validity of Finding"
   ]
  },
  {
   "cell_type": "code",
   "execution_count": 56,
   "metadata": {
    "collapsed": true
   },
   "outputs": [],
   "source": [
    "store = pd.read_csv('store.csv')"
   ]
  },
  {
   "cell_type": "code",
   "execution_count": 57,
   "metadata": {
    "collapsed": true
   },
   "outputs": [],
   "source": [
    "total = train_org[(train_org.Open == 1) & (train_org.Sales != 0)]"
   ]
  },
  {
   "cell_type": "code",
   "execution_count": 58,
   "metadata": {
    "collapsed": true
   },
   "outputs": [],
   "source": [
    "total = pd.merge(total, store, how = 'left',on='Store')"
   ]
  },
  {
   "cell_type": "code",
   "execution_count": 59,
   "metadata": {
    "collapsed": true
   },
   "outputs": [],
   "source": [
    "total['Sales_per_Customer'] = total['Sales'] / total['Customers']"
   ]
  },
  {
   "cell_type": "code",
   "execution_count": 60,
   "metadata": {},
   "outputs": [
    {
     "data": {
      "text/html": [
       "<div>\n",
       "<style scoped>\n",
       "    .dataframe tbody tr th:only-of-type {\n",
       "        vertical-align: middle;\n",
       "    }\n",
       "\n",
       "    .dataframe tbody tr th {\n",
       "        vertical-align: top;\n",
       "    }\n",
       "\n",
       "    .dataframe thead tr th {\n",
       "        text-align: left;\n",
       "    }\n",
       "\n",
       "    .dataframe thead tr:last-of-type th {\n",
       "        text-align: right;\n",
       "    }\n",
       "</style>\n",
       "<table border=\"1\" class=\"dataframe\">\n",
       "  <thead>\n",
       "    <tr>\n",
       "      <th></th>\n",
       "      <th colspan=\"8\" halign=\"left\">Sales</th>\n",
       "      <th colspan=\"8\" halign=\"left\">Customers</th>\n",
       "      <th colspan=\"8\" halign=\"left\">Sales_per_Customer</th>\n",
       "    </tr>\n",
       "    <tr>\n",
       "      <th></th>\n",
       "      <th>count</th>\n",
       "      <th>mean</th>\n",
       "      <th>std</th>\n",
       "      <th>min</th>\n",
       "      <th>25%</th>\n",
       "      <th>50%</th>\n",
       "      <th>75%</th>\n",
       "      <th>max</th>\n",
       "      <th>count</th>\n",
       "      <th>mean</th>\n",
       "      <th>std</th>\n",
       "      <th>min</th>\n",
       "      <th>25%</th>\n",
       "      <th>50%</th>\n",
       "      <th>75%</th>\n",
       "      <th>max</th>\n",
       "      <th>count</th>\n",
       "      <th>mean</th>\n",
       "      <th>std</th>\n",
       "      <th>min</th>\n",
       "      <th>25%</th>\n",
       "      <th>50%</th>\n",
       "      <th>75%</th>\n",
       "      <th>max</th>\n",
       "    </tr>\n",
       "    <tr>\n",
       "      <th>StoreType</th>\n",
       "      <th></th>\n",
       "      <th></th>\n",
       "      <th></th>\n",
       "      <th></th>\n",
       "      <th></th>\n",
       "      <th></th>\n",
       "      <th></th>\n",
       "      <th></th>\n",
       "      <th></th>\n",
       "      <th></th>\n",
       "      <th></th>\n",
       "      <th></th>\n",
       "      <th></th>\n",
       "      <th></th>\n",
       "      <th></th>\n",
       "      <th></th>\n",
       "      <th></th>\n",
       "      <th></th>\n",
       "      <th></th>\n",
       "      <th></th>\n",
       "      <th></th>\n",
       "      <th></th>\n",
       "      <th></th>\n",
       "      <th></th>\n",
       "    </tr>\n",
       "  </thead>\n",
       "  <tbody>\n",
       "    <tr>\n",
       "      <th>a</th>\n",
       "      <td>457042.0</td>\n",
       "      <td>6925.6980</td>\n",
       "      <td>3277.3516</td>\n",
       "      <td>46.0</td>\n",
       "      <td>4695.25</td>\n",
       "      <td>6285.0</td>\n",
       "      <td>8406.00</td>\n",
       "      <td>41551.0</td>\n",
       "      <td>457042.0</td>\n",
       "      <td>795.4224</td>\n",
       "      <td>387.5165</td>\n",
       "      <td>8.0</td>\n",
       "      <td>547.0</td>\n",
       "      <td>720.0</td>\n",
       "      <td>949.0</td>\n",
       "      <td>7388.0</td>\n",
       "      <td>457042.0</td>\n",
       "      <td>8.8463</td>\n",
       "      <td>1.6909</td>\n",
       "      <td>3.6354</td>\n",
       "      <td>7.6119</td>\n",
       "      <td>8.6314</td>\n",
       "      <td>9.8994</td>\n",
       "      <td>29.8776</td>\n",
       "    </tr>\n",
       "    <tr>\n",
       "      <th>b</th>\n",
       "      <td>15560.0</td>\n",
       "      <td>10233.3801</td>\n",
       "      <td>5155.7299</td>\n",
       "      <td>1252.0</td>\n",
       "      <td>6345.75</td>\n",
       "      <td>9130.0</td>\n",
       "      <td>13184.25</td>\n",
       "      <td>38722.0</td>\n",
       "      <td>15560.0</td>\n",
       "      <td>2022.2118</td>\n",
       "      <td>910.6871</td>\n",
       "      <td>219.0</td>\n",
       "      <td>1255.0</td>\n",
       "      <td>1839.5</td>\n",
       "      <td>2751.0</td>\n",
       "      <td>5494.0</td>\n",
       "      <td>15560.0</td>\n",
       "      <td>5.1334</td>\n",
       "      <td>1.2540</td>\n",
       "      <td>2.7491</td>\n",
       "      <td>4.0396</td>\n",
       "      <td>4.9870</td>\n",
       "      <td>6.1088</td>\n",
       "      <td>9.2035</td>\n",
       "    </tr>\n",
       "    <tr>\n",
       "      <th>c</th>\n",
       "      <td>112968.0</td>\n",
       "      <td>6933.1264</td>\n",
       "      <td>2896.9586</td>\n",
       "      <td>133.0</td>\n",
       "      <td>4916.00</td>\n",
       "      <td>6408.0</td>\n",
       "      <td>8349.25</td>\n",
       "      <td>31448.0</td>\n",
       "      <td>112968.0</td>\n",
       "      <td>815.5381</td>\n",
       "      <td>329.6700</td>\n",
       "      <td>18.0</td>\n",
       "      <td>583.0</td>\n",
       "      <td>756.0</td>\n",
       "      <td>981.0</td>\n",
       "      <td>3096.0</td>\n",
       "      <td>112968.0</td>\n",
       "      <td>8.6262</td>\n",
       "      <td>1.6943</td>\n",
       "      <td>3.3825</td>\n",
       "      <td>7.4170</td>\n",
       "      <td>8.4247</td>\n",
       "      <td>9.6431</td>\n",
       "      <td>64.9579</td>\n",
       "    </tr>\n",
       "    <tr>\n",
       "      <th>d</th>\n",
       "      <td>258768.0</td>\n",
       "      <td>6822.3001</td>\n",
       "      <td>2556.4015</td>\n",
       "      <td>538.0</td>\n",
       "      <td>5050.00</td>\n",
       "      <td>6395.0</td>\n",
       "      <td>8123.25</td>\n",
       "      <td>38037.0</td>\n",
       "      <td>258768.0</td>\n",
       "      <td>606.3539</td>\n",
       "      <td>199.2471</td>\n",
       "      <td>64.0</td>\n",
       "      <td>464.0</td>\n",
       "      <td>577.0</td>\n",
       "      <td>716.0</td>\n",
       "      <td>2239.0</td>\n",
       "      <td>258768.0</td>\n",
       "      <td>11.2779</td>\n",
       "      <td>1.9907</td>\n",
       "      <td>4.8813</td>\n",
       "      <td>9.8733</td>\n",
       "      <td>11.1950</td>\n",
       "      <td>12.5603</td>\n",
       "      <td>57.6150</td>\n",
       "    </tr>\n",
       "  </tbody>\n",
       "</table>\n",
       "</div>"
      ],
      "text/plain": [
       "              Sales                                                            \\\n",
       "              count        mean        std     min      25%     50%       75%   \n",
       "StoreType                                                                       \n",
       "a          457042.0   6925.6980  3277.3516    46.0  4695.25  6285.0   8406.00   \n",
       "b           15560.0  10233.3801  5155.7299  1252.0  6345.75  9130.0  13184.25   \n",
       "c          112968.0   6933.1264  2896.9586   133.0  4916.00  6408.0   8349.25   \n",
       "d          258768.0   6822.3001  2556.4015   538.0  5050.00  6395.0   8123.25   \n",
       "\n",
       "                   Customers                                              \\\n",
       "               max     count       mean       std    min     25%     50%   \n",
       "StoreType                                                                  \n",
       "a          41551.0  457042.0   795.4224  387.5165    8.0   547.0   720.0   \n",
       "b          38722.0   15560.0  2022.2118  910.6871  219.0  1255.0  1839.5   \n",
       "c          31448.0  112968.0   815.5381  329.6700   18.0   583.0   756.0   \n",
       "d          38037.0  258768.0   606.3539  199.2471   64.0   464.0   577.0   \n",
       "\n",
       "                          Sales_per_Customer                                   \\\n",
       "              75%     max              count     mean     std     min     25%   \n",
       "StoreType                                                                       \n",
       "a           949.0  7388.0           457042.0   8.8463  1.6909  3.6354  7.6119   \n",
       "b          2751.0  5494.0            15560.0   5.1334  1.2540  2.7491  4.0396   \n",
       "c           981.0  3096.0           112968.0   8.6262  1.6943  3.3825  7.4170   \n",
       "d           716.0  2239.0           258768.0  11.2779  1.9907  4.8813  9.8733   \n",
       "\n",
       "                                      \n",
       "               50%      75%      max  \n",
       "StoreType                             \n",
       "a           8.6314   9.8994  29.8776  \n",
       "b           4.9870   6.1088   9.2035  \n",
       "c           8.4247   9.6431  64.9579  \n",
       "d          11.1950  12.5603  57.6150  "
      ]
     },
     "execution_count": 60,
     "metadata": {},
     "output_type": "execute_result"
    }
   ],
   "source": [
    "total.groupby('StoreType')['Sales','Customers','Sales_per_Customer'].describe()"
   ]
  },
  {
   "cell_type": "code",
   "execution_count": 61,
   "metadata": {
    "collapsed": true
   },
   "outputs": [],
   "source": [
    "model = total.groupby(['StoreType','Assortment']).agg(\n",
    "    {'Sales':'mean','Customers':'mean','Sales_per_Customer':'mean','Store':'count'}).reset_index()"
   ]
  },
  {
   "cell_type": "code",
   "execution_count": 62,
   "metadata": {},
   "outputs": [
    {
     "data": {
      "text/html": [
       "<div>\n",
       "<style scoped>\n",
       "    .dataframe tbody tr th:only-of-type {\n",
       "        vertical-align: middle;\n",
       "    }\n",
       "\n",
       "    .dataframe tbody tr th {\n",
       "        vertical-align: top;\n",
       "    }\n",
       "\n",
       "    .dataframe thead th {\n",
       "        text-align: right;\n",
       "    }\n",
       "</style>\n",
       "<table border=\"1\" class=\"dataframe\">\n",
       "  <thead>\n",
       "    <tr style=\"text-align: right;\">\n",
       "      <th></th>\n",
       "      <th>StoreType</th>\n",
       "      <th>Assortment</th>\n",
       "      <th>Customers</th>\n",
       "      <th>Sales</th>\n",
       "      <th>Store</th>\n",
       "      <th>Sales_per_Customer</th>\n",
       "    </tr>\n",
       "  </thead>\n",
       "  <tbody>\n",
       "    <tr>\n",
       "      <th>0</th>\n",
       "      <td>a</td>\n",
       "      <td>a</td>\n",
       "      <td>759.3111</td>\n",
       "      <td>6538.1890</td>\n",
       "      <td>286028</td>\n",
       "      <td>8.7433</td>\n",
       "    </tr>\n",
       "    <tr>\n",
       "      <th>1</th>\n",
       "      <td>a</td>\n",
       "      <td>c</td>\n",
       "      <td>855.8200</td>\n",
       "      <td>7573.8228</td>\n",
       "      <td>171014</td>\n",
       "      <td>9.0185</td>\n",
       "    </tr>\n",
       "    <tr>\n",
       "      <th>2</th>\n",
       "      <td>b</td>\n",
       "      <td>a</td>\n",
       "      <td>1804.9830</td>\n",
       "      <td>11133.9930</td>\n",
       "      <td>6409</td>\n",
       "      <td>6.2828</td>\n",
       "    </tr>\n",
       "    <tr>\n",
       "      <th>3</th>\n",
       "      <td>b</td>\n",
       "      <td>b</td>\n",
       "      <td>2067.5502</td>\n",
       "      <td>8642.5036</td>\n",
       "      <td>8209</td>\n",
       "      <td>4.1637</td>\n",
       "    </tr>\n",
       "    <tr>\n",
       "      <th>4</th>\n",
       "      <td>b</td>\n",
       "      <td>c</td>\n",
       "      <td>3105.0531</td>\n",
       "      <td>17969.5563</td>\n",
       "      <td>942</td>\n",
       "      <td>5.7636</td>\n",
       "    </tr>\n",
       "    <tr>\n",
       "      <th>5</th>\n",
       "      <td>c</td>\n",
       "      <td>a</td>\n",
       "      <td>839.9632</td>\n",
       "      <td>6835.7486</td>\n",
       "      <td>58554</td>\n",
       "      <td>8.2578</td>\n",
       "    </tr>\n",
       "    <tr>\n",
       "      <th>6</th>\n",
       "      <td>c</td>\n",
       "      <td>c</td>\n",
       "      <td>789.2546</td>\n",
       "      <td>7037.9131</td>\n",
       "      <td>54414</td>\n",
       "      <td>9.0227</td>\n",
       "    </tr>\n",
       "    <tr>\n",
       "      <th>7</th>\n",
       "      <td>d</td>\n",
       "      <td>a</td>\n",
       "      <td>584.0331</td>\n",
       "      <td>6433.7561</td>\n",
       "      <td>93884</td>\n",
       "      <td>11.0502</td>\n",
       "    </tr>\n",
       "    <tr>\n",
       "      <th>8</th>\n",
       "      <td>d</td>\n",
       "      <td>c</td>\n",
       "      <td>619.0633</td>\n",
       "      <td>7043.5348</td>\n",
       "      <td>164884</td>\n",
       "      <td>11.4075</td>\n",
       "    </tr>\n",
       "  </tbody>\n",
       "</table>\n",
       "</div>"
      ],
      "text/plain": [
       "  StoreType Assortment  Customers       Sales   Store  Sales_per_Customer\n",
       "0         a          a   759.3111   6538.1890  286028              8.7433\n",
       "1         a          c   855.8200   7573.8228  171014              9.0185\n",
       "2         b          a  1804.9830  11133.9930    6409              6.2828\n",
       "3         b          b  2067.5502   8642.5036    8209              4.1637\n",
       "4         b          c  3105.0531  17969.5563     942              5.7636\n",
       "5         c          a   839.9632   6835.7486   58554              8.2578\n",
       "6         c          c   789.2546   7037.9131   54414              9.0227\n",
       "7         d          a   584.0331   6433.7561   93884             11.0502\n",
       "8         d          c   619.0633   7043.5348  164884             11.4075"
      ]
     },
     "execution_count": 62,
     "metadata": {},
     "output_type": "execute_result"
    }
   ],
   "source": [
    "model"
   ]
  },
  {
   "cell_type": "code",
   "execution_count": 63,
   "metadata": {},
   "outputs": [
    {
     "data": {
      "text/plain": [
       "<seaborn.axisgrid.FacetGrid at 0xfedc6d8>"
      ]
     },
     "execution_count": 63,
     "metadata": {},
     "output_type": "execute_result"
    },
    {
     "data": {
      "image/png": "[encoded data removed]",
      "text/plain": [
       "<matplotlib.figure.Figure at 0xfedca90>"
      ]
     },
     "metadata": {},
     "output_type": "display_data"
    }
   ],
   "source": [
    "sns.factorplot(x='StoreType', y='Sales', hue='Assortment',data=model, kind='bar',aspect=3)"
   ]
  },
  {
   "cell_type": "code",
   "execution_count": 64,
   "metadata": {},
   "outputs": [
    {
     "data": {
      "text/plain": [
       "<seaborn.axisgrid.FacetGrid at 0x1143a470>"
      ]
     },
     "execution_count": 64,
     "metadata": {},
     "output_type": "execute_result"
    },
    {
     "data": {
      "image/png": "[encoded data removed]",
      "text/plain": [
       "<matplotlib.figure.Figure at 0x12893cf8>"
      ]
     },
     "metadata": {},
     "output_type": "display_data"
    }
   ],
   "source": [
    "sns.factorplot(x='StoreType', y='Sales_per_Customer', hue='Assortment'\n",
    "               ,data=model, kind='bar',aspect=3)"
   ]
  },
  {
   "cell_type": "code",
   "execution_count": 65,
   "metadata": {},
   "outputs": [
    {
     "data": {
      "text/plain": [
       "<seaborn.axisgrid.FacetGrid at 0x11ca8630>"
      ]
     },
     "execution_count": 65,
     "metadata": {},
     "output_type": "execute_result"
    },
    {
     "data": {
      "image/png": "[encoded data removed]",
      "text/plain": [
       "<matplotlib.figure.Figure at 0x11ca8240>"
      ]
     },
     "metadata": {},
     "output_type": "display_data"
    }
   ],
   "source": [
    "sns.factorplot(x='StoreType', y='Customers', hue='Assortment',data=model, kind='bar',aspect=3)"
   ]
  },
  {
   "cell_type": "markdown",
   "metadata": {},
   "source": [
    "<b>Conclusion</b>: From the graph, we can verify that different store type affect sales. Type B store is the most popular type store in terms of sales for all level assortments. Also, only type B store has assortment b (extra).However, in term of sales per customer, type D store stands out for assortment levels a and c. Type B store with assortment level b has the least number of sale_per_customer."
   ]
  },
  {
   "cell_type": "code",
   "execution_count": 66,
   "metadata": {
    "collapsed": true
   },
   "outputs": [],
   "source": [
    "store_number = store.groupby(['StoreType','Assortment'\n",
    "                            ]).size().reset_index().rename(columns = {0:'number'})"
   ]
  },
  {
   "cell_type": "code",
   "execution_count": 67,
   "metadata": {},
   "outputs": [
    {
     "data": {
      "text/html": [
       "<div>\n",
       "<style scoped>\n",
       "    .dataframe tbody tr th:only-of-type {\n",
       "        vertical-align: middle;\n",
       "    }\n",
       "\n",
       "    .dataframe tbody tr th {\n",
       "        vertical-align: top;\n",
       "    }\n",
       "\n",
       "    .dataframe thead th {\n",
       "        text-align: right;\n",
       "    }\n",
       "</style>\n",
       "<table border=\"1\" class=\"dataframe\">\n",
       "  <thead>\n",
       "    <tr style=\"text-align: right;\">\n",
       "      <th></th>\n",
       "      <th>StoreType</th>\n",
       "      <th>Assortment</th>\n",
       "      <th>number</th>\n",
       "    </tr>\n",
       "  </thead>\n",
       "  <tbody>\n",
       "    <tr>\n",
       "      <th>0</th>\n",
       "      <td>a</td>\n",
       "      <td>a</td>\n",
       "      <td>381</td>\n",
       "    </tr>\n",
       "    <tr>\n",
       "      <th>1</th>\n",
       "      <td>a</td>\n",
       "      <td>c</td>\n",
       "      <td>221</td>\n",
       "    </tr>\n",
       "    <tr>\n",
       "      <th>2</th>\n",
       "      <td>b</td>\n",
       "      <td>a</td>\n",
       "      <td>7</td>\n",
       "    </tr>\n",
       "    <tr>\n",
       "      <th>3</th>\n",
       "      <td>b</td>\n",
       "      <td>b</td>\n",
       "      <td>9</td>\n",
       "    </tr>\n",
       "    <tr>\n",
       "      <th>4</th>\n",
       "      <td>b</td>\n",
       "      <td>c</td>\n",
       "      <td>1</td>\n",
       "    </tr>\n",
       "    <tr>\n",
       "      <th>5</th>\n",
       "      <td>c</td>\n",
       "      <td>a</td>\n",
       "      <td>77</td>\n",
       "    </tr>\n",
       "    <tr>\n",
       "      <th>6</th>\n",
       "      <td>c</td>\n",
       "      <td>c</td>\n",
       "      <td>71</td>\n",
       "    </tr>\n",
       "    <tr>\n",
       "      <th>7</th>\n",
       "      <td>d</td>\n",
       "      <td>a</td>\n",
       "      <td>128</td>\n",
       "    </tr>\n",
       "    <tr>\n",
       "      <th>8</th>\n",
       "      <td>d</td>\n",
       "      <td>c</td>\n",
       "      <td>220</td>\n",
       "    </tr>\n",
       "  </tbody>\n",
       "</table>\n",
       "</div>"
      ],
      "text/plain": [
       "  StoreType Assortment  number\n",
       "0         a          a     381\n",
       "1         a          c     221\n",
       "2         b          a       7\n",
       "3         b          b       9\n",
       "4         b          c       1\n",
       "5         c          a      77\n",
       "6         c          c      71\n",
       "7         d          a     128\n",
       "8         d          c     220"
      ]
     },
     "execution_count": 67,
     "metadata": {},
     "output_type": "execute_result"
    }
   ],
   "source": [
    "store_number"
   ]
  },
  {
   "cell_type": "code",
   "execution_count": 68,
   "metadata": {},
   "outputs": [
    {
     "data": {
      "text/plain": [
       "<seaborn.axisgrid.FacetGrid at 0xfd6ea90>"
      ]
     },
     "execution_count": 68,
     "metadata": {},
     "output_type": "execute_result"
    },
    {
     "data": {
      "image/png": "[encoded data removed]",
      "text/plain": [
       "<matplotlib.figure.Figure at 0x11170198>"
      ]
     },
     "metadata": {},
     "output_type": "display_data"
    }
   ],
   "source": [
    "sns.factorplot(x = 'StoreType', y ='number', hue = 'Assortment', data = store_number, kind = 'bar',aspect =2)"
   ]
  },
  {
   "cell_type": "markdown",
   "metadata": {},
   "source": [
    "There are reasons that B-type store has the largest average sales: firstly, type B has much more customers than other types; secondly, type B has less number of stores; thirdly, the Type B has been opened almost everyday except for temperory decoration; fourthly, type B has more product lines (assortments). Our guessing: store type B is the store located in the busy business zone with huge traffic of population, usually big city."
   ]
  },
  {
   "cell_type": "markdown",
   "metadata": {},
   "source": [
    "### Finding 2 Managerial Insight: Since store type B attracts most average sales, company can open more type B store when the goal is to increase sales; or company can set up more type D store when the goal is to increase sales per customer. Furthermore, becasue assortment c in store type B leads sales, company should try to add extra assortment(c) in store type a,c,d to see if the additional assortment increases sales."
   ]
  },
  {
   "cell_type": "markdown",
   "metadata": {
    "collapsed": true
   },
   "source": [
    "### Finding 2 Machine Learning Mastery: Decision Tree"
   ]
  },
  {
   "cell_type": "code",
   "execution_count": 69,
   "metadata": {
    "collapsed": true
   },
   "outputs": [],
   "source": [
    "import sklearn as sk\n",
    "import sklearn.tree as tree\n",
    "from IPython.display import Image  \n",
    "import pydotplus"
   ]
  },
  {
   "cell_type": "code",
   "execution_count": 70,
   "metadata": {
    "collapsed": true
   },
   "outputs": [],
   "source": [
    "dt = tree.DecisionTreeRegressor(max_depth=2)"
   ]
  },
  {
   "cell_type": "code",
   "execution_count": 71,
   "metadata": {
    "collapsed": true
   },
   "outputs": [],
   "source": [
    "X=dtrain_dummied"
   ]
  },
  {
   "cell_type": "code",
   "execution_count": 72,
   "metadata": {
    "collapsed": true
   },
   "outputs": [],
   "source": [
    "Y=y_train"
   ]
  },
  {
   "cell_type": "code",
   "execution_count": 73,
   "metadata": {},
   "outputs": [
    {
     "data": {
      "text/plain": [
       "DecisionTreeRegressor(criterion='mse', max_depth=2, max_features=None,\n",
       "           max_leaf_nodes=None, min_impurity_decrease=0.0,\n",
       "           min_impurity_split=None, min_samples_leaf=1,\n",
       "           min_samples_split=2, min_weight_fraction_leaf=0.0,\n",
       "           presort=False, random_state=None, splitter='best')"
      ]
     },
     "execution_count": 73,
     "metadata": {},
     "output_type": "execute_result"
    }
   ],
   "source": [
    "dt.fit(X,Y)"
   ]
  },
  {
   "cell_type": "code",
   "execution_count": 74,
   "metadata": {},
   "outputs": [
    {
     "data": {
      "image/png": "[encoded data removed]",
      "text/plain": [
       "<IPython.core.display.Image object>"
      ]
     },
     "execution_count": 74,
     "metadata": {},
     "output_type": "execute_result"
    }
   ],
   "source": [
    "# This code will visualize a decision tree dt, trained with the attributes in X and the class labels in Y\n",
    "dt_feature_names = list(X.columns)\n",
    "dt_target_names = np.array(Y.unique(),dtype=np.string_) \n",
    "tree.export_graphviz(dt, out_file='tree.dot', \n",
    "    feature_names=dt_feature_names, class_names=dt_target_names,\n",
    "    filled=True)  \n",
    "graph = pydotplus.graph_from_dot_file('tree.dot')\n",
    "Image(graph.create_png())"
   ]
  },
  {
   "cell_type": "markdown",
   "metadata": {},
   "source": [
    "<b>Conclusion</b> From the decision tree, we can verify that store type B contributes higher sales when there are no promo."
   ]
  },
  {
   "cell_type": "code",
   "execution_count": null,
   "metadata": {
    "collapsed": true
   },
   "outputs": [],
   "source": []
  },
  {
   "cell_type": "markdown",
   "metadata": {
    "collapsed": true
   },
   "source": [
    "## Finding 3: Sales vs Promotion\n",
    "### Summary: Promotion increases sales for every type of stores, especially for stores with lower sales. Mondays' sales e are more responsive to promotion activities than the other days of the week.  "
   ]
  },
  {
   "cell_type": "markdown",
   "metadata": {},
   "source": [
    "### Validation Process"
   ]
  },
  {
   "cell_type": "code",
   "execution_count": 75,
   "metadata": {
    "collapsed": true
   },
   "outputs": [],
   "source": [
    "df = train[['Promo','Sales']]"
   ]
  },
  {
   "cell_type": "code",
   "execution_count": 76,
   "metadata": {},
   "outputs": [
    {
     "data": {
      "text/plain": [
       "<seaborn.axisgrid.FacetGrid at 0xfae1b38>"
      ]
     },
     "execution_count": 76,
     "metadata": {},
     "output_type": "execute_result"
    },
    {
     "data": {
      "image/png": "[encoded data removed]",
      "text/plain": [
       "<matplotlib.figure.Figure at 0x11375b70>"
      ]
     },
     "metadata": {},
     "output_type": "display_data"
    }
   ],
   "source": [
    "sns.factorplot(x='Promo', y='Sales',data = df,kind = 'box',aspect =2,showfliers=False )"
   ]
  },
  {
   "cell_type": "markdown",
   "metadata": {},
   "source": [
    "<b> Promotion works for all types of stores and times. But smaller sales might benefit more.<b>"
   ]
  },
  {
   "cell_type": "code",
   "execution_count": 77,
   "metadata": {
    "collapsed": true
   },
   "outputs": [],
   "source": [
    "df=train[['monthStr','Sales','StoreType','Promo']]"
   ]
  },
  {
   "cell_type": "code",
   "execution_count": 78,
   "metadata": {
    "collapsed": true
   },
   "outputs": [],
   "source": [
    "c = '#386B7F'"
   ]
  },
  {
   "cell_type": "code",
   "execution_count": 79,
   "metadata": {},
   "outputs": [
    {
     "data": {
      "text/plain": [
       "<seaborn.axisgrid.FacetGrid at 0x11485358>"
      ]
     },
     "execution_count": 79,
     "metadata": {},
     "output_type": "execute_result"
    },
    {
     "data": {
      "image/png": "[encoded data removed]",
      "text/plain": [
       "<matplotlib.figure.Figure at 0x11485f60>"
      ]
     },
     "metadata": {},
     "output_type": "display_data"
    }
   ],
   "source": [
    "sns.factorplot(data = df, x = 'monthStr', y = \"Sales\", \n",
    "               col = 'StoreType', # per store type in cols\n",
    "               palette = 'plasma',\n",
    "               hue = 'StoreType',\n",
    "               row = 'Promo', # per promo in the store in rows\n",
    "               color = c) "
   ]
  },
  {
   "cell_type": "markdown",
   "metadata": {},
   "source": [
    "<b>Potential Timing: Sunday booms. Mondays'sales are the second best. <b>"
   ]
  },
  {
   "cell_type": "code",
   "execution_count": 80,
   "metadata": {
    "collapsed": true
   },
   "outputs": [],
   "source": [
    "df = train[['DayOfWeek','Sales']]"
   ]
  },
  {
   "cell_type": "code",
   "execution_count": 81,
   "metadata": {},
   "outputs": [
    {
     "data": {
      "text/plain": [
       "<seaborn.axisgrid.FacetGrid at 0x1146f908>"
      ]
     },
     "execution_count": 81,
     "metadata": {},
     "output_type": "execute_result"
    },
    {
     "data": {
      "image/png": "[encoded data removed]",
      "text/plain": [
       "<matplotlib.figure.Figure at 0x1146f940>"
      ]
     },
     "metadata": {},
     "output_type": "display_data"
    }
   ],
   "source": [
    "sns.factorplot(x='DayOfWeek', y='Sales', data=df, kind ='box', aspect =2,showfliers=False)"
   ]
  },
  {
   "cell_type": "markdown",
   "metadata": {},
   "source": [
    "<b>Most stores close on Sunday. Europeans don't work on Sunday.<b>"
   ]
  },
  {
   "cell_type": "code",
   "execution_count": 82,
   "metadata": {
    "collapsed": true
   },
   "outputs": [],
   "source": [
    "train_org = pd.read_csv(\"train.csv\")\n",
    "full_train = train_org.merge(store, how='left', on ='Store')"
   ]
  },
  {
   "cell_type": "code",
   "execution_count": 83,
   "metadata": {
    "collapsed": true
   },
   "outputs": [],
   "source": [
    "full_weekend = full_train[full_train.DayOfWeek==7]"
   ]
  },
  {
   "cell_type": "code",
   "execution_count": 84,
   "metadata": {},
   "outputs": [
    {
     "data": {
      "text/plain": [
       "<seaborn.axisgrid.FacetGrid at 0x11eb3ac8>"
      ]
     },
     "execution_count": 84,
     "metadata": {},
     "output_type": "execute_result"
    },
    {
     "data": {
      "image/png": "[encoded data removed]",
      "text/plain": [
       "<matplotlib.figure.Figure at 0x14541cf8>"
      ]
     },
     "metadata": {},
     "output_type": "display_data"
    }
   ],
   "source": [
    "sns.factorplot(x='StoreType',y='Open',data=full_weekend,kind='bar',aspect=2)"
   ]
  },
  {
   "cell_type": "markdown",
   "metadata": {},
   "source": [
    "<b>Promo levels are almost constant on weekdays.<b>"
   ]
  },
  {
   "cell_type": "code",
   "execution_count": 85,
   "metadata": {},
   "outputs": [
    {
     "data": {
      "text/plain": [
       "<seaborn.axisgrid.FacetGrid at 0x43cda630>"
      ]
     },
     "execution_count": 85,
     "metadata": {},
     "output_type": "execute_result"
    },
    {
     "data": {
      "image/png": "[encoded data removed]",
      "text/plain": [
       "<matplotlib.figure.Figure at 0x43507978>"
      ]
     },
     "metadata": {},
     "output_type": "display_data"
    }
   ],
   "source": [
    "sns.factorplot(x='DayOfWeek',y='Promo',data=full_train,kind='bar',aspect=2)"
   ]
  },
  {
   "cell_type": "markdown",
   "metadata": {},
   "source": [
    "<b> Give similar promo level as stated above, Mondays seem to be most responsive to Promo activies.<b>"
   ]
  },
  {
   "cell_type": "code",
   "execution_count": 86,
   "metadata": {
    "collapsed": true
   },
   "outputs": [],
   "source": [
    "df = train[['DayOfWeek','Promo','Sales']]"
   ]
  },
  {
   "cell_type": "code",
   "execution_count": 87,
   "metadata": {},
   "outputs": [
    {
     "data": {
      "text/plain": [
       "<seaborn.axisgrid.FacetGrid at 0xb8f48630>"
      ]
     },
     "execution_count": 87,
     "metadata": {},
     "output_type": "execute_result"
    },
    {
     "data": {
      "image/png": "[encoded data removed]",
      "text/plain": [
       "<matplotlib.figure.Figure at 0xb8f48128>"
      ]
     },
     "metadata": {},
     "output_type": "display_data"
    }
   ],
   "source": [
    "sns.factorplot(x='DayOfWeek', y='Sales',hue='Promo', data=df, kind ='bar', aspect =2)"
   ]
  },
  {
   "cell_type": "markdown",
   "metadata": {},
   "source": [
    "### Finding 3 Managerial Insight: Do promotions on Monday and more on store type a,c,d, which would be more effective than other timing and places. People are eager to buy after a no-store weekend."
   ]
  },
  {
   "cell_type": "markdown",
   "metadata": {
    "collapsed": true
   },
   "source": [
    "### Finding 3 Machine Learning Mastery: Lenear Regression find the interaction effect of Promo*Monday, Promo*StoreTypes"
   ]
  },
  {
   "cell_type": "code",
   "execution_count": 88,
   "metadata": {
    "collapsed": true
   },
   "outputs": [],
   "source": [
    "dtrain_interact = dtrain_dummied"
   ]
  },
  {
   "cell_type": "code",
   "execution_count": 89,
   "metadata": {
    "collapsed": true
   },
   "outputs": [],
   "source": [
    "dvalid_interact = dvalid_dummied"
   ]
  },
  {
   "cell_type": "code",
   "execution_count": 90,
   "metadata": {
    "collapsed": true
   },
   "outputs": [],
   "source": [
    "dtrain_interact['StoreType'] = dtrain_interact.StoreType_b+dtrain_interact.StoreType_c+dtrain_interact.StoreType_d\n",
    "dvalid_interact['StoreType'] = dvalid_interact.StoreType_b+dvalid_interact.StoreType_c+dvalid_interact.StoreType_d"
   ]
  },
  {
   "cell_type": "code",
   "execution_count": 91,
   "metadata": {
    "collapsed": true
   },
   "outputs": [],
   "source": [
    "dtrain_interact['StoreType_a'] = dtrain_interact.StoreType.apply(\n",
    "    lambda x: 1 if x ==0 else 0)\n",
    "dvalid_interact['StoreType_a'] = dvalid_interact.StoreType.apply(\n",
    "    lambda x: 1 if x ==0 else 0)"
   ]
  },
  {
   "cell_type": "code",
   "execution_count": 92,
   "metadata": {
    "collapsed": true
   },
   "outputs": [],
   "source": [
    "dtrain_interact.drop(['StoreType','StoreType_b'],axis=1, inplace=True)\n",
    "dvalid_interact.drop(['StoreType','StoreType_b'],axis=1, inplace=True)"
   ]
  },
  {
   "cell_type": "markdown",
   "metadata": {},
   "source": [
    "<b> Create interaction terms for Promo*Monday, Promo*StoreTypes<b>"
   ]
  },
  {
   "cell_type": "code",
   "execution_count": 93,
   "metadata": {},
   "outputs": [
    {
     "data": {
      "text/plain": [
       "Index([u'CompetitionDistance', u'Promo', u'Promo2', u'SchoolHoliday',\n",
       "       u'CompetitionOpen', u'PromoOpen', u'IsPromoMonth', u'StoreType_c',\n",
       "       u'StoreType_d', u'Assortment_b', u'Assortment_c', u'DayOfWeek_1',\n",
       "       u'DayOfWeek_2', u'DayOfWeek_3', u'DayOfWeek_4', u'DayOfWeek_5',\n",
       "       u'DayOfWeek_6', u'Year_2014', u'Year_2015', u'Month_2', u'Month_3',\n",
       "       u'Month_4', u'Month_5', u'Month_6', u'Month_7', u'Month_8', u'Month_9',\n",
       "       u'Month_10', u'Month_11', u'Month_12', u'WeekOfYear_2', u'WeekOfYear_3',\n",
       "       u'WeekOfYear_4', u'WeekOfYear_5', u'WeekOfYear_6', u'WeekOfYear_7',\n",
       "       u'WeekOfYear_8', u'WeekOfYear_9', u'WeekOfYear_10', u'WeekOfYear_11',\n",
       "       u'WeekOfYear_12', u'WeekOfYear_13', u'WeekOfYear_14', u'WeekOfYear_15',\n",
       "       u'WeekOfYear_16', u'WeekOfYear_17', u'WeekOfYear_18', u'WeekOfYear_19',\n",
       "       u'WeekOfYear_20', u'WeekOfYear_21', u'WeekOfYear_22', u'WeekOfYear_23',\n",
       "       u'WeekOfYear_24', u'WeekOfYear_25', u'WeekOfYear_26', u'WeekOfYear_27',\n",
       "       u'WeekOfYear_28', u'WeekOfYear_29', u'WeekOfYear_30', u'WeekOfYear_31',\n",
       "       u'WeekOfYear_32', u'WeekOfYear_33', u'WeekOfYear_34', u'WeekOfYear_35',\n",
       "       u'WeekOfYear_36', u'WeekOfYear_37', u'WeekOfYear_38', u'WeekOfYear_39',\n",
       "       u'WeekOfYear_40', u'WeekOfYear_41', u'WeekOfYear_42', u'WeekOfYear_43',\n",
       "       u'WeekOfYear_44', u'WeekOfYear_45', u'WeekOfYear_46', u'WeekOfYear_47',\n",
       "       u'WeekOfYear_48', u'WeekOfYear_49', u'WeekOfYear_50', u'WeekOfYear_51',\n",
       "       u'WeekOfYear_52', u'StateHoliday_a', u'StateHoliday_b',\n",
       "       u'StateHoliday_c', u'StoreType_a'],\n",
       "      dtype='object')"
      ]
     },
     "execution_count": 93,
     "metadata": {},
     "output_type": "execute_result"
    }
   ],
   "source": [
    "dtrain_interact.columns"
   ]
  },
  {
   "cell_type": "code",
   "execution_count": 94,
   "metadata": {
    "collapsed": true
   },
   "outputs": [],
   "source": [
    "dtrain_interact['Promo*Mon'] = dtrain_interact['Promo']*dtrain_interact['DayOfWeek_1']\n",
    "dvalid_interact['Promo*Mon'] = dvalid_interact['Promo']*dvalid_interact['DayOfWeek_1']"
   ]
  },
  {
   "cell_type": "code",
   "execution_count": 95,
   "metadata": {
    "collapsed": true
   },
   "outputs": [],
   "source": [
    "dtrain_interact['Promo*StoreType_a'] = dtrain_interact['Promo']*dtrain_interact['StoreType_a']\n",
    "dvalid_interact['Promo*StoreType_a'] = dvalid_interact['Promo']*dvalid_interact['StoreType_a']"
   ]
  },
  {
   "cell_type": "code",
   "execution_count": 96,
   "metadata": {
    "collapsed": true
   },
   "outputs": [],
   "source": [
    "dtrain_interact['Promo*StoreType_c'] = dtrain_interact['Promo']*dtrain_interact['StoreType_c']\n",
    "dvalid_interact['Promo*StoreType_c'] = dvalid_interact['Promo']*dvalid_interact['StoreType_c']"
   ]
  },
  {
   "cell_type": "code",
   "execution_count": 97,
   "metadata": {
    "collapsed": true
   },
   "outputs": [],
   "source": [
    "dtrain_interact['Promo*StoreType_d'] = dtrain_interact['Promo']*dtrain_interact['StoreType_d']\n",
    "dvalid_interact['Promo*StoreType_d'] = dvalid_interact['Promo']*dvalid_interact['StoreType_d']"
   ]
  },
  {
   "cell_type": "markdown",
   "metadata": {},
   "source": [
    "<b> Try linear regression to see if the impacts of interaction terms are aligned with our findings<b>"
   ]
  },
  {
   "cell_type": "code",
   "execution_count": 98,
   "metadata": {
    "collapsed": true
   },
   "outputs": [],
   "source": [
    "lr =LinearRegression(normalize=True)"
   ]
  },
  {
   "cell_type": "code",
   "execution_count": 99,
   "metadata": {},
   "outputs": [
    {
     "data": {
      "text/plain": [
       "LinearRegression(copy_X=True, fit_intercept=True, n_jobs=1, normalize=True)"
      ]
     },
     "execution_count": 99,
     "metadata": {},
     "output_type": "execute_result"
    }
   ],
   "source": [
    "lr.fit(dtrain_interact,y_train)"
   ]
  },
  {
   "cell_type": "markdown",
   "metadata": {},
   "source": [
    "<b> Though RMSPE for linear regression model is much higher than random forest, the signs of coefficients can still be informative to support our finding."
   ]
  },
  {
   "cell_type": "code",
   "execution_count": 100,
   "metadata": {},
   "outputs": [
    {
     "name": "stdout",
     "output_type": "stream",
     "text": [
      "RMSPE: 0.428176\n"
     ]
    }
   ],
   "source": [
    "ypred = lr.predict(dvalid_interact)\n",
    "error = rmspe(X_valid.Sales.values, np.expm1(ypred))\n",
    "print('RMSPE: {:.6f}'.format(error))"
   ]
  },
  {
   "cell_type": "code",
   "execution_count": 101,
   "metadata": {
    "collapsed": true
   },
   "outputs": [],
   "source": [
    "s = pd.Series({dtrain_interact.columns[i] : lr.coef_[i] for i in range(0,len(dtrain_interact.columns))})"
   ]
  },
  {
   "cell_type": "code",
   "execution_count": 102,
   "metadata": {},
   "outputs": [
    {
     "data": {
      "text/plain": [
       "WeekOfYear_40          3.4801e-01\n",
       "WeekOfYear_51          3.4344e-01\n",
       "WeekOfYear_44          2.6331e-01\n",
       "WeekOfYear_37          2.5997e-01\n",
       "WeekOfYear_48          2.5838e-01\n",
       "Month_3                2.5233e-01\n",
       "Promo*StoreType_a      2.4323e-01\n",
       "WeekOfYear_36          2.4312e-01\n",
       "WeekOfYear_41          2.1467e-01\n",
       "WeekOfYear_52          1.9976e-01\n",
       "WeekOfYear_39          1.9666e-01\n",
       "WeekOfYear_38          1.8851e-01\n",
       "Promo*StoreType_d      1.8249e-01\n",
       "WeekOfYear_42          1.7087e-01\n",
       "Promo*StoreType_c      1.6748e-01\n",
       "Month_5                1.6602e-01\n",
       "WeekOfYear_49          1.5634e-01\n",
       "Month_6                1.4968e-01\n",
       "WeekOfYear_45          1.4704e-01\n",
       "Month_4                1.4660e-01\n",
       "WeekOfYear_50          1.4160e-01\n",
       "Month_2                1.2322e-01\n",
       "WeekOfYear_43          1.2186e-01\n",
       "WeekOfYear_35          1.2134e-01\n",
       "Assortment_c           1.2036e-01\n",
       "WeekOfYear_47          1.2030e-01\n",
       "WeekOfYear_31          1.0364e-01\n",
       "WeekOfYear_33          9.3625e-02\n",
       "Promo                  9.2835e-02\n",
       "WeekOfYear_32          9.0030e-02\n",
       "WeekOfYear_46          8.9548e-02\n",
       "Promo*Mon              6.2733e-02\n",
       "WeekOfYear_28          5.8498e-02\n",
       "WeekOfYear_27          5.3702e-02\n",
       "WeekOfYear_34          4.7602e-02\n",
       "Year_2015              4.2335e-02\n",
       "WeekOfYear_29          3.5967e-02\n",
       "SchoolHoliday          3.5439e-02\n",
       "Year_2014              2.0781e-02\n",
       "Month_12               1.0391e-02\n",
       "PromoOpen              1.1832e-03\n",
       "IsPromoMonth           1.0325e-03\n",
       "CompetitionOpen       -1.9496e-07\n",
       "CompetitionDistance   -3.1849e-06\n",
       "WeekOfYear_30         -6.5878e-03\n",
       "WeekOfYear_2          -2.3369e-02\n",
       "WeekOfYear_18         -4.1468e-02\n",
       "WeekOfYear_5          -4.7152e-02\n",
       "WeekOfYear_22         -7.0221e-02\n",
       "Month_7               -7.1795e-02\n",
       "dtype: float64"
      ]
     },
     "execution_count": 102,
     "metadata": {},
     "output_type": "execute_result"
    }
   ],
   "source": [
    "s.sort_values(ascending = False).head(50)"
   ]
  },
  {
   "cell_type": "markdown",
   "metadata": {},
   "source": [
    "<b>Conclusion:</b> We find all interactions(Promo*Mon, Promo*StoreType_a, Promo*StoreType_c, Promo*StoreType_d) with positive signs, which supports finding 3."
   ]
  },
  {
   "cell_type": "code",
   "execution_count": null,
   "metadata": {
    "collapsed": true
   },
   "outputs": [],
   "source": []
  },
  {
   "cell_type": "code",
   "execution_count": null,
   "metadata": {
    "collapsed": true
   },
   "outputs": [],
   "source": []
  },
  {
   "cell_type": "code",
   "execution_count": null,
   "metadata": {
    "collapsed": true
   },
   "outputs": [],
   "source": []
  }
 ],
 "metadata": {
  "kernelspec": {
   "display_name": "Python 2",
   "language": "python",
   "name": "python2"
  },
  "language_info": {
   "codemirror_mode": {
    "name": "ipython",
    "version": 2
   },
   "file_extension": ".py",
   "mimetype": "text/x-python",
   "name": "python",
   "nbconvert_exporter": "python",
   "pygments_lexer": "ipython2",
   "version": "2.7.14"
  }
 },
 "nbformat": 4,
 "nbformat_minor": 2
}
